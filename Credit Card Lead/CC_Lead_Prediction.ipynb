{
 "cells": [
  {
   "cell_type": "code",
   "execution_count": 1,
   "id": "be9cdf5c",
   "metadata": {},
   "outputs": [],
   "source": [
    "import pandas as pd\n",
    "import numpy as np\n",
    "import matplotlib.pyplot as plt\n",
    "import category_encoders as ce\n",
    "%matplotlib inline"
   ]
  },
  {
   "cell_type": "code",
   "execution_count": 2,
   "id": "44b13c89",
   "metadata": {},
   "outputs": [],
   "source": [
    "train = pd.read_csv('train.csv')\n",
    "test = pd.read_csv('test.csv')"
   ]
  },
  {
   "cell_type": "code",
   "execution_count": 3,
   "id": "42929199",
   "metadata": {},
   "outputs": [
    {
     "data": {
      "text/plain": [
       "(245725, 11)"
      ]
     },
     "execution_count": 3,
     "metadata": {},
     "output_type": "execute_result"
    }
   ],
   "source": [
    "train.shape"
   ]
  },
  {
   "cell_type": "code",
   "execution_count": 4,
   "id": "10560fc6",
   "metadata": {},
   "outputs": [
    {
     "data": {
      "text/html": [
       "<div>\n",
       "<style scoped>\n",
       "    .dataframe tbody tr th:only-of-type {\n",
       "        vertical-align: middle;\n",
       "    }\n",
       "\n",
       "    .dataframe tbody tr th {\n",
       "        vertical-align: top;\n",
       "    }\n",
       "\n",
       "    .dataframe thead th {\n",
       "        text-align: right;\n",
       "    }\n",
       "</style>\n",
       "<table border=\"1\" class=\"dataframe\">\n",
       "  <thead>\n",
       "    <tr style=\"text-align: right;\">\n",
       "      <th></th>\n",
       "      <th>ID</th>\n",
       "      <th>Gender</th>\n",
       "      <th>Age</th>\n",
       "      <th>Region_Code</th>\n",
       "      <th>Occupation</th>\n",
       "      <th>Channel_Code</th>\n",
       "      <th>Vintage</th>\n",
       "      <th>Credit_Product</th>\n",
       "      <th>Avg_Account_Balance</th>\n",
       "      <th>Is_Active</th>\n",
       "      <th>Is_Lead</th>\n",
       "    </tr>\n",
       "  </thead>\n",
       "  <tbody>\n",
       "    <tr>\n",
       "      <th>0</th>\n",
       "      <td>NNVBBKZB</td>\n",
       "      <td>Female</td>\n",
       "      <td>73</td>\n",
       "      <td>RG268</td>\n",
       "      <td>Other</td>\n",
       "      <td>X3</td>\n",
       "      <td>43</td>\n",
       "      <td>No</td>\n",
       "      <td>1045696</td>\n",
       "      <td>No</td>\n",
       "      <td>0</td>\n",
       "    </tr>\n",
       "    <tr>\n",
       "      <th>1</th>\n",
       "      <td>IDD62UNG</td>\n",
       "      <td>Female</td>\n",
       "      <td>30</td>\n",
       "      <td>RG277</td>\n",
       "      <td>Salaried</td>\n",
       "      <td>X1</td>\n",
       "      <td>32</td>\n",
       "      <td>No</td>\n",
       "      <td>581988</td>\n",
       "      <td>No</td>\n",
       "      <td>0</td>\n",
       "    </tr>\n",
       "    <tr>\n",
       "      <th>2</th>\n",
       "      <td>HD3DSEMC</td>\n",
       "      <td>Female</td>\n",
       "      <td>56</td>\n",
       "      <td>RG268</td>\n",
       "      <td>Self_Employed</td>\n",
       "      <td>X3</td>\n",
       "      <td>26</td>\n",
       "      <td>No</td>\n",
       "      <td>1484315</td>\n",
       "      <td>Yes</td>\n",
       "      <td>0</td>\n",
       "    </tr>\n",
       "    <tr>\n",
       "      <th>3</th>\n",
       "      <td>BF3NC7KV</td>\n",
       "      <td>Male</td>\n",
       "      <td>34</td>\n",
       "      <td>RG270</td>\n",
       "      <td>Salaried</td>\n",
       "      <td>X1</td>\n",
       "      <td>19</td>\n",
       "      <td>No</td>\n",
       "      <td>470454</td>\n",
       "      <td>No</td>\n",
       "      <td>0</td>\n",
       "    </tr>\n",
       "    <tr>\n",
       "      <th>4</th>\n",
       "      <td>TEASRWXV</td>\n",
       "      <td>Female</td>\n",
       "      <td>30</td>\n",
       "      <td>RG282</td>\n",
       "      <td>Salaried</td>\n",
       "      <td>X1</td>\n",
       "      <td>33</td>\n",
       "      <td>No</td>\n",
       "      <td>886787</td>\n",
       "      <td>No</td>\n",
       "      <td>0</td>\n",
       "    </tr>\n",
       "  </tbody>\n",
       "</table>\n",
       "</div>"
      ],
      "text/plain": [
       "         ID  Gender  Age Region_Code     Occupation Channel_Code  Vintage  \\\n",
       "0  NNVBBKZB  Female   73       RG268          Other           X3       43   \n",
       "1  IDD62UNG  Female   30       RG277       Salaried           X1       32   \n",
       "2  HD3DSEMC  Female   56       RG268  Self_Employed           X3       26   \n",
       "3  BF3NC7KV    Male   34       RG270       Salaried           X1       19   \n",
       "4  TEASRWXV  Female   30       RG282       Salaried           X1       33   \n",
       "\n",
       "  Credit_Product  Avg_Account_Balance Is_Active  Is_Lead  \n",
       "0             No              1045696        No        0  \n",
       "1             No               581988        No        0  \n",
       "2             No              1484315       Yes        0  \n",
       "3             No               470454        No        0  \n",
       "4             No               886787        No        0  "
      ]
     },
     "execution_count": 4,
     "metadata": {},
     "output_type": "execute_result"
    }
   ],
   "source": [
    "train.head()"
   ]
  },
  {
   "cell_type": "code",
   "execution_count": 5,
   "id": "3bee94d6",
   "metadata": {
    "scrolled": true
   },
   "outputs": [
    {
     "name": "stdout",
     "output_type": "stream",
     "text": [
      "<class 'pandas.core.frame.DataFrame'>\n",
      "RangeIndex: 245725 entries, 0 to 245724\n",
      "Data columns (total 11 columns):\n",
      " #   Column               Non-Null Count   Dtype \n",
      "---  ------               --------------   ----- \n",
      " 0   ID                   245725 non-null  object\n",
      " 1   Gender               245725 non-null  object\n",
      " 2   Age                  245725 non-null  int64 \n",
      " 3   Region_Code          245725 non-null  object\n",
      " 4   Occupation           245725 non-null  object\n",
      " 5   Channel_Code         245725 non-null  object\n",
      " 6   Vintage              245725 non-null  int64 \n",
      " 7   Credit_Product       216400 non-null  object\n",
      " 8   Avg_Account_Balance  245725 non-null  int64 \n",
      " 9   Is_Active            245725 non-null  object\n",
      " 10  Is_Lead              245725 non-null  int64 \n",
      "dtypes: int64(4), object(7)\n",
      "memory usage: 20.6+ MB\n"
     ]
    }
   ],
   "source": [
    "train.info()"
   ]
  },
  {
   "cell_type": "code",
   "execution_count": 6,
   "id": "4b413a0d",
   "metadata": {
    "scrolled": true
   },
   "outputs": [
    {
     "data": {
      "text/html": [
       "<div>\n",
       "<style scoped>\n",
       "    .dataframe tbody tr th:only-of-type {\n",
       "        vertical-align: middle;\n",
       "    }\n",
       "\n",
       "    .dataframe tbody tr th {\n",
       "        vertical-align: top;\n",
       "    }\n",
       "\n",
       "    .dataframe thead th {\n",
       "        text-align: right;\n",
       "    }\n",
       "</style>\n",
       "<table border=\"1\" class=\"dataframe\">\n",
       "  <thead>\n",
       "    <tr style=\"text-align: right;\">\n",
       "      <th></th>\n",
       "      <th>Age</th>\n",
       "      <th>Vintage</th>\n",
       "      <th>Avg_Account_Balance</th>\n",
       "      <th>Is_Lead</th>\n",
       "    </tr>\n",
       "  </thead>\n",
       "  <tbody>\n",
       "    <tr>\n",
       "      <th>count</th>\n",
       "      <td>245725.000000</td>\n",
       "      <td>245725.000000</td>\n",
       "      <td>2.457250e+05</td>\n",
       "      <td>245725.000000</td>\n",
       "    </tr>\n",
       "    <tr>\n",
       "      <th>mean</th>\n",
       "      <td>43.856307</td>\n",
       "      <td>46.959141</td>\n",
       "      <td>1.128403e+06</td>\n",
       "      <td>0.237208</td>\n",
       "    </tr>\n",
       "    <tr>\n",
       "      <th>std</th>\n",
       "      <td>14.828672</td>\n",
       "      <td>32.353136</td>\n",
       "      <td>8.529364e+05</td>\n",
       "      <td>0.425372</td>\n",
       "    </tr>\n",
       "    <tr>\n",
       "      <th>min</th>\n",
       "      <td>23.000000</td>\n",
       "      <td>7.000000</td>\n",
       "      <td>2.079000e+04</td>\n",
       "      <td>0.000000</td>\n",
       "    </tr>\n",
       "    <tr>\n",
       "      <th>25%</th>\n",
       "      <td>30.000000</td>\n",
       "      <td>20.000000</td>\n",
       "      <td>6.043100e+05</td>\n",
       "      <td>0.000000</td>\n",
       "    </tr>\n",
       "    <tr>\n",
       "      <th>50%</th>\n",
       "      <td>43.000000</td>\n",
       "      <td>32.000000</td>\n",
       "      <td>8.946010e+05</td>\n",
       "      <td>0.000000</td>\n",
       "    </tr>\n",
       "    <tr>\n",
       "      <th>75%</th>\n",
       "      <td>54.000000</td>\n",
       "      <td>73.000000</td>\n",
       "      <td>1.366666e+06</td>\n",
       "      <td>0.000000</td>\n",
       "    </tr>\n",
       "    <tr>\n",
       "      <th>max</th>\n",
       "      <td>85.000000</td>\n",
       "      <td>135.000000</td>\n",
       "      <td>1.035201e+07</td>\n",
       "      <td>1.000000</td>\n",
       "    </tr>\n",
       "  </tbody>\n",
       "</table>\n",
       "</div>"
      ],
      "text/plain": [
       "                 Age        Vintage  Avg_Account_Balance        Is_Lead\n",
       "count  245725.000000  245725.000000         2.457250e+05  245725.000000\n",
       "mean       43.856307      46.959141         1.128403e+06       0.237208\n",
       "std        14.828672      32.353136         8.529364e+05       0.425372\n",
       "min        23.000000       7.000000         2.079000e+04       0.000000\n",
       "25%        30.000000      20.000000         6.043100e+05       0.000000\n",
       "50%        43.000000      32.000000         8.946010e+05       0.000000\n",
       "75%        54.000000      73.000000         1.366666e+06       0.000000\n",
       "max        85.000000     135.000000         1.035201e+07       1.000000"
      ]
     },
     "execution_count": 6,
     "metadata": {},
     "output_type": "execute_result"
    }
   ],
   "source": [
    "train.describe()"
   ]
  },
  {
   "cell_type": "code",
   "execution_count": 7,
   "id": "605c2108",
   "metadata": {},
   "outputs": [
    {
     "data": {
      "text/plain": [
       "0"
      ]
     },
     "execution_count": 7,
     "metadata": {},
     "output_type": "execute_result"
    }
   ],
   "source": [
    "dups = train.duplicated()\n",
    "dups.sum()"
   ]
  },
  {
   "cell_type": "code",
   "execution_count": 8,
   "id": "ff86feb0",
   "metadata": {},
   "outputs": [],
   "source": [
    "num = ['Age', 'Vintage', 'Avg_Account_Balance']\n",
    "cat = ['Region_Code','Gender','Occupation','Channel_Code','Credit_Product','Is_Active','Is_Lead']"
   ]
  },
  {
   "cell_type": "code",
   "execution_count": 9,
   "id": "04566360",
   "metadata": {},
   "outputs": [],
   "source": [
    "#removing outliers\n",
    "\n",
    "def outliers(col):\n",
    "    Q1,Q3 = np.percentile(col, [25,75])\n",
    "    IQR = Q3-Q1\n",
    "    LR = Q1-1.5*IQR\n",
    "    UR = Q3+1.5*IQR\n",
    "    return LR, UR"
   ]
  },
  {
   "cell_type": "code",
   "execution_count": 10,
   "id": "0d0e377f",
   "metadata": {},
   "outputs": [],
   "source": [
    "train_backup = train.copy()"
   ]
  },
  {
   "cell_type": "code",
   "execution_count": 11,
   "id": "20a41175",
   "metadata": {},
   "outputs": [],
   "source": [
    "for i in train[num]:\n",
    "    lr, ur = outliers(train[i])\n",
    "    train[i] = np.where(train[i]>ur,ur,train[i])\n",
    "    train[i] = np.where(train[i]<lr,lr,train[i])"
   ]
  },
  {
   "cell_type": "code",
   "execution_count": 12,
   "id": "975dfaee",
   "metadata": {},
   "outputs": [
    {
     "data": {
      "image/png": "[encoded data removed]",
      "text/plain": [
       "<Figure size 432x288 with 1 Axes>"
      ]
     },
     "metadata": {
      "needs_background": "light"
     },
     "output_type": "display_data"
    },
    {
     "data": {
      "image/png": "[encoded data removed]",
      "text/plain": [
       "<Figure size 432x288 with 1 Axes>"
      ]
     },
     "metadata": {
      "needs_background": "light"
     },
     "output_type": "display_data"
    },
    {
     "data": {
      "image/png": "[encoded data removed]",
      "text/plain": [
       "<Figure size 432x288 with 1 Axes>"
      ]
     },
     "metadata": {
      "needs_background": "light"
     },
     "output_type": "display_data"
    }
   ],
   "source": [
    "for i in num:\n",
    "    plt.hist(train[i])\n",
    "    plt.title(i)\n",
    "    plt.show()"
   ]
  },
  {
   "cell_type": "code",
   "execution_count": 13,
   "id": "5180966e",
   "metadata": {},
   "outputs": [],
   "source": [
    "import seaborn as sns"
   ]
  },
  {
   "cell_type": "code",
   "execution_count": 14,
   "id": "05a2c8bf",
   "metadata": {},
   "outputs": [
    {
     "name": "stdout",
     "output_type": "stream",
     "text": [
      "                          Age   Vintage  Avg_Account_Balance\n",
      "Age                  1.000000  0.631242             0.173492\n",
      "Vintage              0.631242  1.000000             0.199300\n",
      "Avg_Account_Balance  0.173492  0.199300             1.000000\n"
     ]
    },
    {
     "data": {
      "text/plain": [
       "<AxesSubplot:>"
      ]
     },
     "execution_count": 14,
     "metadata": {},
     "output_type": "execute_result"
    },
    {
     "data": {
      "image/png": "[encoded data removed]",
      "text/plain": [
       "<Figure size 432x288 with 2 Axes>"
      ]
     },
     "metadata": {
      "needs_background": "light"
     },
     "output_type": "display_data"
    }
   ],
   "source": [
    "print(train[num].corr())\n",
    "sns.heatmap(train[num].corr())"
   ]
  },
  {
   "cell_type": "code",
   "execution_count": 15,
   "id": "4b42e985",
   "metadata": {},
   "outputs": [
    {
     "data": {
      "text/html": [
       "<div>\n",
       "<style scoped>\n",
       "    .dataframe tbody tr th:only-of-type {\n",
       "        vertical-align: middle;\n",
       "    }\n",
       "\n",
       "    .dataframe tbody tr th {\n",
       "        vertical-align: top;\n",
       "    }\n",
       "\n",
       "    .dataframe thead th {\n",
       "        text-align: right;\n",
       "    }\n",
       "</style>\n",
       "<table border=\"1\" class=\"dataframe\">\n",
       "  <thead>\n",
       "    <tr style=\"text-align: right;\">\n",
       "      <th></th>\n",
       "      <th>Age</th>\n",
       "      <th>Avg_Account_Balance</th>\n",
       "      <th>Vintage</th>\n",
       "    </tr>\n",
       "    <tr>\n",
       "      <th>Is_Lead</th>\n",
       "      <th></th>\n",
       "      <th></th>\n",
       "      <th></th>\n",
       "    </tr>\n",
       "  </thead>\n",
       "  <tbody>\n",
       "    <tr>\n",
       "      <th>0</th>\n",
       "      <td>41.947662</td>\n",
       "      <td>1.037422e+06</td>\n",
       "      <td>41.913923</td>\n",
       "    </tr>\n",
       "    <tr>\n",
       "      <th>1</th>\n",
       "      <td>49.993944</td>\n",
       "      <td>1.136802e+06</td>\n",
       "      <td>63.183074</td>\n",
       "    </tr>\n",
       "  </tbody>\n",
       "</table>\n",
       "</div>"
      ],
      "text/plain": [
       "               Age  Avg_Account_Balance    Vintage\n",
       "Is_Lead                                           \n",
       "0        41.947662         1.037422e+06  41.913923\n",
       "1        49.993944         1.136802e+06  63.183074"
      ]
     },
     "execution_count": 15,
     "metadata": {},
     "output_type": "execute_result"
    }
   ],
   "source": [
    "pd.pivot_table(train, index='Is_Lead', values = num)"
   ]
  },
  {
   "cell_type": "code",
   "execution_count": 16,
   "id": "e65b3210",
   "metadata": {},
   "outputs": [
    {
     "data": {
      "image/png": "[encoded data removed]",
      "text/plain": [
       "<Figure size 432x288 with 1 Axes>"
      ]
     },
     "metadata": {
      "needs_background": "light"
     },
     "output_type": "display_data"
    },
    {
     "data": {
      "image/png": "[encoded data removed]",
      "text/plain": [
       "<Figure size 432x288 with 1 Axes>"
      ]
     },
     "metadata": {
      "needs_background": "light"
     },
     "output_type": "display_data"
    },
    {
     "data": {
      "image/png": "[encoded data removed]",
      "text/plain": [
       "<Figure size 432x288 with 1 Axes>"
      ]
     },
     "metadata": {
      "needs_background": "light"
     },
     "output_type": "display_data"
    },
    {
     "data": {
      "image/png": "[encoded data removed]",
      "text/plain": [
       "<Figure size 432x288 with 1 Axes>"
      ]
     },
     "metadata": {
      "needs_background": "light"
     },
     "output_type": "display_data"
    },
    {
     "data": {
      "image/png": "[encoded data removed]",
      "text/plain": [
       "<Figure size 432x288 with 1 Axes>"
      ]
     },
     "metadata": {
      "needs_background": "light"
     },
     "output_type": "display_data"
    },
    {
     "data": {
      "image/png": "[encoded data removed]",
      "text/plain": [
       "<Figure size 432x288 with 1 Axes>"
      ]
     },
     "metadata": {
      "needs_background": "light"
     },
     "output_type": "display_data"
    },
    {
     "data": {
      "image/png": "[encoded data removed]",
      "text/plain": [
       "<Figure size 432x288 with 1 Axes>"
      ]
     },
     "metadata": {
      "needs_background": "light"
     },
     "output_type": "display_data"
    }
   ],
   "source": [
    "for i in cat:\n",
    "    sns.barplot(y=train[i].value_counts(),x=train[i].value_counts().index).set_title(i)\n",
    "    plt.show()"
   ]
  },
  {
   "cell_type": "code",
   "execution_count": 17,
   "id": "101bc90b",
   "metadata": {},
   "outputs": [
    {
     "name": "stdout",
     "output_type": "stream",
     "text": [
      "Region_Code  RG250  RG251  RG252  RG253  RG254  RG255  RG256  RG257  RG258  \\\n",
      "Is_Lead                                                                      \n",
      "0             2103   4569   3694   1377  21127   1549   2446   4931   1521   \n",
      "1              393   1381    592    481   5713    469    401   1170    430   \n",
      "\n",
      "Region_Code  RG259  ...  RG275  RG276  RG277  RG278  RG279  RG280  RG281  \\\n",
      "Is_Lead             ...                                                    \n",
      "0             2085  ...   2702   1996   9851   1422   3079   9766   3979   \n",
      "1              501  ...    543    768   2975    400    897   3009   1114   \n",
      "\n",
      "Region_Code  RG282  RG283  RG284  \n",
      "Is_Lead                           \n",
      "0             4709  20531  13504  \n",
      "1             1120   8885   5816  \n",
      "\n",
      "[2 rows x 35 columns]\n",
      "\n",
      "Gender   Female   Male\n",
      "Is_Lead               \n",
      "0         88823  98614\n",
      "1         22705  35583\n",
      "\n",
      "Occupation  Entrepreneur  Other  Salaried  Self_Employed\n",
      "Is_Lead                                                 \n",
      "0                    905  52984     60503          73045\n",
      "1                   1762  17189     11496          27841\n",
      "\n",
      "Channel_Code     X1     X2     X3    X4\n",
      "Is_Lead                                \n",
      "0             94236  45519  43493  4189\n",
      "1              9482  22207  25219  1380\n",
      "\n",
      "Credit_Product      No    Yes\n",
      "Is_Lead                      \n",
      "0               133734  49353\n",
      "1                10623  22690\n",
      "\n",
      "Is_Active      No    Yes\n",
      "Is_Lead                 \n",
      "0          119007  68430\n",
      "1           31283  27005\n",
      "\n"
     ]
    }
   ],
   "source": [
    "for i in cat:\n",
    "    if i == 'Is_Lead':\n",
    "        continue\n",
    "    print(pd.pivot_table(train, index='Is_Lead', columns = i, values = 'ID', aggfunc='count'))\n",
    "    print()"
   ]
  },
  {
   "cell_type": "code",
   "execution_count": 18,
   "id": "d5e76ac0",
   "metadata": {},
   "outputs": [
    {
     "data": {
      "text/html": [
       "<div>\n",
       "<style scoped>\n",
       "    .dataframe tbody tr th:only-of-type {\n",
       "        vertical-align: middle;\n",
       "    }\n",
       "\n",
       "    .dataframe tbody tr th {\n",
       "        vertical-align: top;\n",
       "    }\n",
       "\n",
       "    .dataframe thead th {\n",
       "        text-align: right;\n",
       "    }\n",
       "</style>\n",
       "<table border=\"1\" class=\"dataframe\">\n",
       "  <thead>\n",
       "    <tr style=\"text-align: right;\">\n",
       "      <th>Is_Lead</th>\n",
       "      <th>0</th>\n",
       "      <th>1</th>\n",
       "    </tr>\n",
       "    <tr>\n",
       "      <th>Region_Code</th>\n",
       "      <th></th>\n",
       "      <th></th>\n",
       "    </tr>\n",
       "  </thead>\n",
       "  <tbody>\n",
       "    <tr>\n",
       "      <th>RG250</th>\n",
       "      <td>2103</td>\n",
       "      <td>393</td>\n",
       "    </tr>\n",
       "    <tr>\n",
       "      <th>RG251</th>\n",
       "      <td>4569</td>\n",
       "      <td>1381</td>\n",
       "    </tr>\n",
       "    <tr>\n",
       "      <th>RG252</th>\n",
       "      <td>3694</td>\n",
       "      <td>592</td>\n",
       "    </tr>\n",
       "    <tr>\n",
       "      <th>RG253</th>\n",
       "      <td>1377</td>\n",
       "      <td>481</td>\n",
       "    </tr>\n",
       "    <tr>\n",
       "      <th>RG254</th>\n",
       "      <td>21127</td>\n",
       "      <td>5713</td>\n",
       "    </tr>\n",
       "    <tr>\n",
       "      <th>RG255</th>\n",
       "      <td>1549</td>\n",
       "      <td>469</td>\n",
       "    </tr>\n",
       "    <tr>\n",
       "      <th>RG256</th>\n",
       "      <td>2446</td>\n",
       "      <td>401</td>\n",
       "    </tr>\n",
       "    <tr>\n",
       "      <th>RG257</th>\n",
       "      <td>4931</td>\n",
       "      <td>1170</td>\n",
       "    </tr>\n",
       "    <tr>\n",
       "      <th>RG258</th>\n",
       "      <td>1521</td>\n",
       "      <td>430</td>\n",
       "    </tr>\n",
       "    <tr>\n",
       "      <th>RG259</th>\n",
       "      <td>2085</td>\n",
       "      <td>501</td>\n",
       "    </tr>\n",
       "    <tr>\n",
       "      <th>RG260</th>\n",
       "      <td>2516</td>\n",
       "      <td>594</td>\n",
       "    </tr>\n",
       "    <tr>\n",
       "      <th>RG261</th>\n",
       "      <td>6351</td>\n",
       "      <td>1282</td>\n",
       "    </tr>\n",
       "    <tr>\n",
       "      <th>RG262</th>\n",
       "      <td>1465</td>\n",
       "      <td>323</td>\n",
       "    </tr>\n",
       "    <tr>\n",
       "      <th>RG263</th>\n",
       "      <td>2869</td>\n",
       "      <td>818</td>\n",
       "    </tr>\n",
       "    <tr>\n",
       "      <th>RG264</th>\n",
       "      <td>2410</td>\n",
       "      <td>383</td>\n",
       "    </tr>\n",
       "    <tr>\n",
       "      <th>RG265</th>\n",
       "      <td>1146</td>\n",
       "      <td>400</td>\n",
       "    </tr>\n",
       "    <tr>\n",
       "      <th>RG266</th>\n",
       "      <td>1358</td>\n",
       "      <td>220</td>\n",
       "    </tr>\n",
       "    <tr>\n",
       "      <th>RG267</th>\n",
       "      <td>1274</td>\n",
       "      <td>223</td>\n",
       "    </tr>\n",
       "    <tr>\n",
       "      <th>RG268</th>\n",
       "      <td>25161</td>\n",
       "      <td>10773</td>\n",
       "    </tr>\n",
       "    <tr>\n",
       "      <th>RG269</th>\n",
       "      <td>6120</td>\n",
       "      <td>1743</td>\n",
       "    </tr>\n",
       "    <tr>\n",
       "      <th>RG270</th>\n",
       "      <td>6606</td>\n",
       "      <td>1114</td>\n",
       "    </tr>\n",
       "    <tr>\n",
       "      <th>RG271</th>\n",
       "      <td>1281</td>\n",
       "      <td>261</td>\n",
       "    </tr>\n",
       "    <tr>\n",
       "      <th>RG272</th>\n",
       "      <td>4097</td>\n",
       "      <td>1155</td>\n",
       "    </tr>\n",
       "    <tr>\n",
       "      <th>RG273</th>\n",
       "      <td>3428</td>\n",
       "      <td>1069</td>\n",
       "    </tr>\n",
       "    <tr>\n",
       "      <th>RG274</th>\n",
       "      <td>4414</td>\n",
       "      <td>872</td>\n",
       "    </tr>\n",
       "    <tr>\n",
       "      <th>RG275</th>\n",
       "      <td>2702</td>\n",
       "      <td>543</td>\n",
       "    </tr>\n",
       "    <tr>\n",
       "      <th>RG276</th>\n",
       "      <td>1996</td>\n",
       "      <td>768</td>\n",
       "    </tr>\n",
       "    <tr>\n",
       "      <th>RG277</th>\n",
       "      <td>9851</td>\n",
       "      <td>2975</td>\n",
       "    </tr>\n",
       "    <tr>\n",
       "      <th>RG278</th>\n",
       "      <td>1422</td>\n",
       "      <td>400</td>\n",
       "    </tr>\n",
       "    <tr>\n",
       "      <th>RG279</th>\n",
       "      <td>3079</td>\n",
       "      <td>897</td>\n",
       "    </tr>\n",
       "    <tr>\n",
       "      <th>RG280</th>\n",
       "      <td>9766</td>\n",
       "      <td>3009</td>\n",
       "    </tr>\n",
       "    <tr>\n",
       "      <th>RG281</th>\n",
       "      <td>3979</td>\n",
       "      <td>1114</td>\n",
       "    </tr>\n",
       "    <tr>\n",
       "      <th>RG282</th>\n",
       "      <td>4709</td>\n",
       "      <td>1120</td>\n",
       "    </tr>\n",
       "    <tr>\n",
       "      <th>RG283</th>\n",
       "      <td>20531</td>\n",
       "      <td>8885</td>\n",
       "    </tr>\n",
       "    <tr>\n",
       "      <th>RG284</th>\n",
       "      <td>13504</td>\n",
       "      <td>5816</td>\n",
       "    </tr>\n",
       "  </tbody>\n",
       "</table>\n",
       "</div>"
      ],
      "text/plain": [
       "Is_Lead          0      1\n",
       "Region_Code              \n",
       "RG250         2103    393\n",
       "RG251         4569   1381\n",
       "RG252         3694    592\n",
       "RG253         1377    481\n",
       "RG254        21127   5713\n",
       "RG255         1549    469\n",
       "RG256         2446    401\n",
       "RG257         4931   1170\n",
       "RG258         1521    430\n",
       "RG259         2085    501\n",
       "RG260         2516    594\n",
       "RG261         6351   1282\n",
       "RG262         1465    323\n",
       "RG263         2869    818\n",
       "RG264         2410    383\n",
       "RG265         1146    400\n",
       "RG266         1358    220\n",
       "RG267         1274    223\n",
       "RG268        25161  10773\n",
       "RG269         6120   1743\n",
       "RG270         6606   1114\n",
       "RG271         1281    261\n",
       "RG272         4097   1155\n",
       "RG273         3428   1069\n",
       "RG274         4414    872\n",
       "RG275         2702    543\n",
       "RG276         1996    768\n",
       "RG277         9851   2975\n",
       "RG278         1422    400\n",
       "RG279         3079    897\n",
       "RG280         9766   3009\n",
       "RG281         3979   1114\n",
       "RG282         4709   1120\n",
       "RG283        20531   8885\n",
       "RG284        13504   5816"
      ]
     },
     "execution_count": 18,
     "metadata": {},
     "output_type": "execute_result"
    }
   ],
   "source": [
    "x = pd.DataFrame(pd.pivot_table(train, index='Is_Lead', columns = 'Region_Code', values = 'ID', aggfunc='count'))\n",
    "x.T"
   ]
  },
  {
   "cell_type": "markdown",
   "id": "7cba3d22",
   "metadata": {},
   "source": [
    "## Observations made so far\n",
    "\n",
    "1) There's some collinearity between Age and Vintage, which is understandable considering that the customer who's been a customer for a long time is bound to be older than younger. But there are new customers but old people. How do I deal with that?\n",
    "\n",
    "2) Avg_Account_Balance is right-skewed, I want to scale it logarithmically so I can have a better distribution\n",
    "\n",
    "3) Vintage is right-skewed too, but I want to explore on its relationship with age instead of scaling logarithmically\n",
    "\n",
    "4) Also Vintage is in direct relationship with the target variable, as in long term customers are more bound to be a lead, that explains the distribution Vintage shares with Is_Lead.\n",
    "\n",
    "5) Region_Code are distributed unevenly but their Is_Lead values are in similar ratio, nearly 25% of a region are bound to be leads, but some regions show lower and some show slightly higher ratios. This could be because of various reasons, my initial thought would be that the regions of these places are financially more comfortable than other regions. I want to explore this view to justify target encoding for Region_Code\n",
    "\n",
    "6) There isn't info on Channel_Code but there is a significant lower number of X4 channel.\n",
    "\n",
    "7) X1 performs significantly worse in Is_Lead ratios.\n",
    "\n",
    "8) Entrepreneurs are understandably lower in number compared to other Occupation, and they also have higher Is_Lead ratios compared to their Occuption counterparts.\n",
    "\n",
    "9) Being Male, having a Credit Product or being an active customer makes you more bound to be lead.\n",
    "\n",
    "10) I want to explore the NA values on Credit_Product. Is there a pattern to it? Nearly 12% is missing, so it might be relatively safe to delete but it's better to check anyway."
   ]
  },
  {
   "cell_type": "code",
   "execution_count": 19,
   "id": "d3f1292a",
   "metadata": {
    "scrolled": true
   },
   "outputs": [
    {
     "data": {
      "text/plain": [
       "<seaborn.axisgrid.PairGrid at 0x190156b2cd0>"
      ]
     },
     "execution_count": 19,
     "metadata": {},
     "output_type": "execute_result"
    },
    {
     "data": {
      "image/png": "[encoded data removed]",
      "text/plain": [
       "<Figure size 720x720 with 20 Axes>"
      ]
     },
     "metadata": {
      "needs_background": "light"
     },
     "output_type": "display_data"
    }
   ],
   "source": [
    "#Exploring Point 5\n",
    "p5 = pd.pivot_table(train, index='Region_Code', values = num + ['Is_Lead'])\n",
    "sns.pairplot(p5)"
   ]
  },
  {
   "cell_type": "markdown",
   "id": "dedc71a3",
   "metadata": {},
   "source": [
    "I want to just focus on the Is_Lead row for this. Some regions have lower age average and their Is_Lead probability is low. Similarly, with Avg_Account_Balance and Vintage. So it's safe to assume that the more financial regions are bound to have higher lead possibilities"
   ]
  },
  {
   "cell_type": "code",
   "execution_count": 20,
   "id": "2a3f7a64",
   "metadata": {
    "scrolled": false
   },
   "outputs": [
    {
     "data": {
      "text/html": [
       "<div>\n",
       "<style scoped>\n",
       "    .dataframe tbody tr th:only-of-type {\n",
       "        vertical-align: middle;\n",
       "    }\n",
       "\n",
       "    .dataframe tbody tr th {\n",
       "        vertical-align: top;\n",
       "    }\n",
       "\n",
       "    .dataframe thead th {\n",
       "        text-align: right;\n",
       "    }\n",
       "</style>\n",
       "<table border=\"1\" class=\"dataframe\">\n",
       "  <thead>\n",
       "    <tr style=\"text-align: right;\">\n",
       "      <th></th>\n",
       "      <th>ID</th>\n",
       "      <th>Gender</th>\n",
       "      <th>Age</th>\n",
       "      <th>Region_Code</th>\n",
       "      <th>Occupation</th>\n",
       "      <th>Channel_Code</th>\n",
       "      <th>Vintage</th>\n",
       "      <th>Credit_Product</th>\n",
       "      <th>Avg_Account_Balance</th>\n",
       "      <th>Is_Active</th>\n",
       "      <th>Is_Lead</th>\n",
       "    </tr>\n",
       "  </thead>\n",
       "  <tbody>\n",
       "    <tr>\n",
       "      <th>6</th>\n",
       "      <td>ETQCZFEJ</td>\n",
       "      <td>Male</td>\n",
       "      <td>62.0</td>\n",
       "      <td>RG282</td>\n",
       "      <td>Other</td>\n",
       "      <td>X3</td>\n",
       "      <td>20.0</td>\n",
       "      <td>NaN</td>\n",
       "      <td>1056750.0</td>\n",
       "      <td>Yes</td>\n",
       "      <td>1</td>\n",
       "    </tr>\n",
       "    <tr>\n",
       "      <th>15</th>\n",
       "      <td>UJ2NJKKL</td>\n",
       "      <td>Male</td>\n",
       "      <td>33.0</td>\n",
       "      <td>RG268</td>\n",
       "      <td>Self_Employed</td>\n",
       "      <td>X2</td>\n",
       "      <td>69.0</td>\n",
       "      <td>NaN</td>\n",
       "      <td>517063.0</td>\n",
       "      <td>Yes</td>\n",
       "      <td>1</td>\n",
       "    </tr>\n",
       "    <tr>\n",
       "      <th>31</th>\n",
       "      <td>ABPMK4WU</td>\n",
       "      <td>Female</td>\n",
       "      <td>32.0</td>\n",
       "      <td>RG279</td>\n",
       "      <td>Salaried</td>\n",
       "      <td>X4</td>\n",
       "      <td>15.0</td>\n",
       "      <td>NaN</td>\n",
       "      <td>1072850.0</td>\n",
       "      <td>Yes</td>\n",
       "      <td>1</td>\n",
       "    </tr>\n",
       "    <tr>\n",
       "      <th>36</th>\n",
       "      <td>MTEIXMB9</td>\n",
       "      <td>Female</td>\n",
       "      <td>41.0</td>\n",
       "      <td>RG268</td>\n",
       "      <td>Self_Employed</td>\n",
       "      <td>X3</td>\n",
       "      <td>62.0</td>\n",
       "      <td>NaN</td>\n",
       "      <td>962383.0</td>\n",
       "      <td>No</td>\n",
       "      <td>1</td>\n",
       "    </tr>\n",
       "    <tr>\n",
       "      <th>40</th>\n",
       "      <td>6WX9JDVK</td>\n",
       "      <td>Female</td>\n",
       "      <td>63.0</td>\n",
       "      <td>RG254</td>\n",
       "      <td>Other</td>\n",
       "      <td>X3</td>\n",
       "      <td>103.0</td>\n",
       "      <td>NaN</td>\n",
       "      <td>1249319.0</td>\n",
       "      <td>Yes</td>\n",
       "      <td>1</td>\n",
       "    </tr>\n",
       "  </tbody>\n",
       "</table>\n",
       "</div>"
      ],
      "text/plain": [
       "          ID  Gender   Age Region_Code     Occupation Channel_Code  Vintage  \\\n",
       "6   ETQCZFEJ    Male  62.0       RG282          Other           X3     20.0   \n",
       "15  UJ2NJKKL    Male  33.0       RG268  Self_Employed           X2     69.0   \n",
       "31  ABPMK4WU  Female  32.0       RG279       Salaried           X4     15.0   \n",
       "36  MTEIXMB9  Female  41.0       RG268  Self_Employed           X3     62.0   \n",
       "40  6WX9JDVK  Female  63.0       RG254          Other           X3    103.0   \n",
       "\n",
       "   Credit_Product  Avg_Account_Balance Is_Active  Is_Lead  \n",
       "6             NaN            1056750.0       Yes        1  \n",
       "15            NaN             517063.0       Yes        1  \n",
       "31            NaN            1072850.0       Yes        1  \n",
       "36            NaN             962383.0        No        1  \n",
       "40            NaN            1249319.0       Yes        1  "
      ]
     },
     "execution_count": 20,
     "metadata": {},
     "output_type": "execute_result"
    }
   ],
   "source": [
    "#Exploring point 10\n",
    "train_na = train[train.Credit_Product.isna()]\n",
    "train_na.head()"
   ]
  },
  {
   "cell_type": "code",
   "execution_count": 21,
   "id": "73eda1eb",
   "metadata": {
    "scrolled": true
   },
   "outputs": [
    {
     "data": {
      "image/png": "[encoded data removed]",
      "text/plain": [
       "<Figure size 432x288 with 1 Axes>"
      ]
     },
     "metadata": {
      "needs_background": "light"
     },
     "output_type": "display_data"
    },
    {
     "data": {
      "image/png": "[encoded data removed]",
      "text/plain": [
       "<Figure size 432x288 with 1 Axes>"
      ]
     },
     "metadata": {
      "needs_background": "light"
     },
     "output_type": "display_data"
    },
    {
     "data": {
      "image/png": "[encoded data removed]",
      "text/plain": [
       "<Figure size 432x288 with 1 Axes>"
      ]
     },
     "metadata": {
      "needs_background": "light"
     },
     "output_type": "display_data"
    }
   ],
   "source": [
    "for i in num:\n",
    "    plt.hist(train_na[i])\n",
    "    plt.title(i)\n",
    "    plt.show()"
   ]
  },
  {
   "cell_type": "code",
   "execution_count": 22,
   "id": "8eef44f1",
   "metadata": {
    "scrolled": true
   },
   "outputs": [
    {
     "name": "stdout",
     "output_type": "stream",
     "text": [
      "                          Age   Vintage  Avg_Account_Balance\n",
      "Age                  1.000000  0.441795             0.140759\n",
      "Vintage              0.441795  1.000000             0.217303\n",
      "Avg_Account_Balance  0.140759  0.217303             1.000000\n"
     ]
    },
    {
     "data": {
      "text/plain": [
       "<AxesSubplot:>"
      ]
     },
     "execution_count": 22,
     "metadata": {},
     "output_type": "execute_result"
    },
    {
     "data": {
      "image/png": "[encoded data removed]",
      "text/plain": [
       "<Figure size 432x288 with 2 Axes>"
      ]
     },
     "metadata": {
      "needs_background": "light"
     },
     "output_type": "display_data"
    }
   ],
   "source": [
    "print(train_na[num].corr())\n",
    "sns.heatmap(train_na[num].corr())"
   ]
  },
  {
   "cell_type": "code",
   "execution_count": 23,
   "id": "955ba906",
   "metadata": {},
   "outputs": [
    {
     "data": {
      "text/html": [
       "<div>\n",
       "<style scoped>\n",
       "    .dataframe tbody tr th:only-of-type {\n",
       "        vertical-align: middle;\n",
       "    }\n",
       "\n",
       "    .dataframe tbody tr th {\n",
       "        vertical-align: top;\n",
       "    }\n",
       "\n",
       "    .dataframe thead th {\n",
       "        text-align: right;\n",
       "    }\n",
       "</style>\n",
       "<table border=\"1\" class=\"dataframe\">\n",
       "  <thead>\n",
       "    <tr style=\"text-align: right;\">\n",
       "      <th></th>\n",
       "      <th>Age</th>\n",
       "      <th>Avg_Account_Balance</th>\n",
       "      <th>Vintage</th>\n",
       "    </tr>\n",
       "    <tr>\n",
       "      <th>Is_Lead</th>\n",
       "      <th></th>\n",
       "      <th></th>\n",
       "      <th></th>\n",
       "    </tr>\n",
       "  </thead>\n",
       "  <tbody>\n",
       "    <tr>\n",
       "      <th>0</th>\n",
       "      <td>52.516782</td>\n",
       "      <td>1.163908e+06</td>\n",
       "      <td>67.570345</td>\n",
       "    </tr>\n",
       "    <tr>\n",
       "      <th>1</th>\n",
       "      <td>51.437037</td>\n",
       "      <td>1.150513e+06</td>\n",
       "      <td>66.535215</td>\n",
       "    </tr>\n",
       "  </tbody>\n",
       "</table>\n",
       "</div>"
      ],
      "text/plain": [
       "               Age  Avg_Account_Balance    Vintage\n",
       "Is_Lead                                           \n",
       "0        52.516782         1.163908e+06  67.570345\n",
       "1        51.437037         1.150513e+06  66.535215"
      ]
     },
     "execution_count": 23,
     "metadata": {},
     "output_type": "execute_result"
    }
   ],
   "source": [
    "pd.pivot_table(train_na, index='Is_Lead', values = num)"
   ]
  },
  {
   "cell_type": "code",
   "execution_count": 24,
   "id": "842a59dc",
   "metadata": {},
   "outputs": [
    {
     "data": {
      "image/png": "[encoded data removed]",
      "text/plain": [
       "<Figure size 432x288 with 1 Axes>"
      ]
     },
     "metadata": {
      "needs_background": "light"
     },
     "output_type": "display_data"
    },
    {
     "data": {
      "image/png": "[encoded data removed]",
      "text/plain": [
       "<Figure size 432x288 with 1 Axes>"
      ]
     },
     "metadata": {
      "needs_background": "light"
     },
     "output_type": "display_data"
    },
    {
     "data": {
      "image/png": "[encoded data removed]",
      "text/plain": [
       "<Figure size 432x288 with 1 Axes>"
      ]
     },
     "metadata": {
      "needs_background": "light"
     },
     "output_type": "display_data"
    },
    {
     "data": {
      "image/png": "[encoded data removed]",
      "text/plain": [
       "<Figure size 432x288 with 1 Axes>"
      ]
     },
     "metadata": {
      "needs_background": "light"
     },
     "output_type": "display_data"
    },
    {
     "data": {
      "image/png": "[encoded data removed]",
      "text/plain": [
       "<Figure size 432x288 with 1 Axes>"
      ]
     },
     "metadata": {
      "needs_background": "light"
     },
     "output_type": "display_data"
    },
    {
     "data": {
      "image/png": "[encoded data removed]",
      "text/plain": [
       "<Figure size 432x288 with 1 Axes>"
      ]
     },
     "metadata": {
      "needs_background": "light"
     },
     "output_type": "display_data"
    }
   ],
   "source": [
    "for i in cat:\n",
    "    if i == 'Credit_Product':\n",
    "        continue\n",
    "    sns.barplot(y=train_na[i].value_counts(),x=train_na[i].value_counts().index).set_title(i)\n",
    "    plt.show()"
   ]
  },
  {
   "cell_type": "markdown",
   "id": "1ae2d5b6",
   "metadata": {},
   "source": [
    "There is some significance to the NA credit groups, a lot of them are possible leads., they are not influenced by Age or Vintage. I want to call it a new category 'NA'"
   ]
  },
  {
   "cell_type": "code",
   "execution_count": 25,
   "id": "361d17ee",
   "metadata": {},
   "outputs": [],
   "source": [
    "train.loc[train.Credit_Product.isna(),'Credit_Product'] = 'NA'"
   ]
  },
  {
   "cell_type": "code",
   "execution_count": 26,
   "id": "c380b22c",
   "metadata": {},
   "outputs": [
    {
     "data": {
      "text/plain": [
       "ID                     0\n",
       "Gender                 0\n",
       "Age                    0\n",
       "Region_Code            0\n",
       "Occupation             0\n",
       "Channel_Code           0\n",
       "Vintage                0\n",
       "Credit_Product         0\n",
       "Avg_Account_Balance    0\n",
       "Is_Active              0\n",
       "Is_Lead                0\n",
       "dtype: int64"
      ]
     },
     "execution_count": 26,
     "metadata": {},
     "output_type": "execute_result"
    }
   ],
   "source": [
    "train.isna().sum()"
   ]
  },
  {
   "cell_type": "markdown",
   "id": "a30c1062",
   "metadata": {},
   "source": [
    "## Steps to do\n",
    "\n",
    "1) Remove 'ID' column because it has no significance\n",
    "\n",
    "2) Dummy Encode 'Gender', 'Occupation', 'Channel_Code', 'Credit_Product', 'Is_Active'\n",
    "\n",
    "3) Bin Ages\n",
    "\n",
    "4) Target Encode 'Region_Code'\n",
    "\n",
    "5) Scale 'Avg_Account_Balance'\n",
    "\n"
   ]
  },
  {
   "cell_type": "code",
   "execution_count": 27,
   "id": "885965d6",
   "metadata": {
    "scrolled": true
   },
   "outputs": [
    {
     "data": {
      "text/plain": [
       "<AxesSubplot:xlabel='Age', ylabel='Count'>"
      ]
     },
     "execution_count": 27,
     "metadata": {},
     "output_type": "execute_result"
    },
    {
     "data": {
      "image/png": "[encoded data removed]",
      "text/plain": [
       "<Figure size 432x288 with 1 Axes>"
      ]
     },
     "metadata": {
      "needs_background": "light"
     },
     "output_type": "display_data"
    }
   ],
   "source": [
    "sns.histplot(data=train[train.Is_Lead==0],x='Age',bins=5,binrange=(train.Age.min(),train.Age.max()))"
   ]
  },
  {
   "cell_type": "code",
   "execution_count": 28,
   "id": "1a7c4f3c",
   "metadata": {},
   "outputs": [
    {
     "data": {
      "text/plain": [
       "<AxesSubplot:xlabel='Age', ylabel='Count'>"
      ]
     },
     "execution_count": 28,
     "metadata": {},
     "output_type": "execute_result"
    },
    {
     "data": {
      "image/png": "[encoded data removed]",
      "text/plain": [
       "<Figure size 432x288 with 1 Axes>"
      ]
     },
     "metadata": {
      "needs_background": "light"
     },
     "output_type": "display_data"
    }
   ],
   "source": [
    "sns.histplot(data=train[train.Is_Lead==1],x='Age',bins=5,binrange=(train.Age.min(),train.Age.max()))"
   ]
  },
  {
   "cell_type": "code",
   "execution_count": 29,
   "id": "97435b37",
   "metadata": {
    "scrolled": false
   },
   "outputs": [
    {
     "name": "stdout",
     "output_type": "stream",
     "text": [
      "['RG268', 'RG283', 'RG254', 'RG284', 'RG277', 'RG280', 'RG269', 'RG270', 'RG261', 'RG257', 'RG251', 'RG282', 'RG274', 'RG272', 'RG281', 'RG273', 'RG252', 'RG279', 'RG263', 'RG275', 'RG260', 'RG256', 'RG264', 'RG276', 'RG259', 'RG250', 'RG255', 'RG258', 'RG253', 'RG278', 'RG262', 'RG266', 'RG265', 'RG271', 'RG267']\n"
     ]
    }
   ],
   "source": [
    "print(list(train.Region_Code.value_counts().index))"
   ]
  },
  {
   "cell_type": "code",
   "execution_count": 30,
   "id": "b505d2dd",
   "metadata": {},
   "outputs": [],
   "source": [
    "#Making another backup of train dataset\n",
    "train2 = train.copy()"
   ]
  },
  {
   "cell_type": "code",
   "execution_count": 31,
   "id": "d31dc950",
   "metadata": {},
   "outputs": [],
   "source": [
    "# Dropping ID"
   ]
  },
  {
   "cell_type": "code",
   "execution_count": 32,
   "id": "59181be4",
   "metadata": {},
   "outputs": [],
   "source": [
    "train.drop(['ID'], axis=1, inplace=True)"
   ]
  },
  {
   "cell_type": "code",
   "execution_count": 33,
   "id": "1b0e4d8c",
   "metadata": {},
   "outputs": [],
   "source": [
    "#Encoding"
   ]
  },
  {
   "cell_type": "code",
   "execution_count": 34,
   "id": "bf10d47a",
   "metadata": {},
   "outputs": [],
   "source": [
    "train = pd.get_dummies(train,columns = ['Is_Active','Occupation', 'Channel_Code', 'Credit_Product'], drop_first=True)"
   ]
  },
  {
   "cell_type": "code",
   "execution_count": 35,
   "id": "1a7e1d4e",
   "metadata": {},
   "outputs": [],
   "source": [
    "from sklearn.preprocessing import LabelEncoder\n",
    "le = LabelEncoder()\n",
    "for col in ['Gender','Region_Code']:\n",
    "    train[col] = le.fit_transform(train[col])\n"
   ]
  },
  {
   "cell_type": "code",
   "execution_count": 36,
   "id": "3f71e9ff",
   "metadata": {},
   "outputs": [
    {
     "data": {
      "text/html": [
       "<div>\n",
       "<style scoped>\n",
       "    .dataframe tbody tr th:only-of-type {\n",
       "        vertical-align: middle;\n",
       "    }\n",
       "\n",
       "    .dataframe tbody tr th {\n",
       "        vertical-align: top;\n",
       "    }\n",
       "\n",
       "    .dataframe thead th {\n",
       "        text-align: right;\n",
       "    }\n",
       "</style>\n",
       "<table border=\"1\" class=\"dataframe\">\n",
       "  <thead>\n",
       "    <tr style=\"text-align: right;\">\n",
       "      <th></th>\n",
       "      <th>Gender</th>\n",
       "      <th>Age</th>\n",
       "      <th>Region_Code</th>\n",
       "      <th>Vintage</th>\n",
       "      <th>Avg_Account_Balance</th>\n",
       "      <th>Is_Lead</th>\n",
       "      <th>Is_Active_Yes</th>\n",
       "      <th>Occupation_Other</th>\n",
       "      <th>Occupation_Salaried</th>\n",
       "      <th>Occupation_Self_Employed</th>\n",
       "      <th>Channel_Code_X2</th>\n",
       "      <th>Channel_Code_X3</th>\n",
       "      <th>Channel_Code_X4</th>\n",
       "      <th>Credit_Product_No</th>\n",
       "      <th>Credit_Product_Yes</th>\n",
       "    </tr>\n",
       "  </thead>\n",
       "  <tbody>\n",
       "    <tr>\n",
       "      <th>0</th>\n",
       "      <td>0</td>\n",
       "      <td>73.0</td>\n",
       "      <td>18</td>\n",
       "      <td>43.0</td>\n",
       "      <td>1045696.0</td>\n",
       "      <td>0</td>\n",
       "      <td>0</td>\n",
       "      <td>1</td>\n",
       "      <td>0</td>\n",
       "      <td>0</td>\n",
       "      <td>0</td>\n",
       "      <td>1</td>\n",
       "      <td>0</td>\n",
       "      <td>1</td>\n",
       "      <td>0</td>\n",
       "    </tr>\n",
       "    <tr>\n",
       "      <th>1</th>\n",
       "      <td>0</td>\n",
       "      <td>30.0</td>\n",
       "      <td>27</td>\n",
       "      <td>32.0</td>\n",
       "      <td>581988.0</td>\n",
       "      <td>0</td>\n",
       "      <td>0</td>\n",
       "      <td>0</td>\n",
       "      <td>1</td>\n",
       "      <td>0</td>\n",
       "      <td>0</td>\n",
       "      <td>0</td>\n",
       "      <td>0</td>\n",
       "      <td>1</td>\n",
       "      <td>0</td>\n",
       "    </tr>\n",
       "    <tr>\n",
       "      <th>2</th>\n",
       "      <td>0</td>\n",
       "      <td>56.0</td>\n",
       "      <td>18</td>\n",
       "      <td>26.0</td>\n",
       "      <td>1484315.0</td>\n",
       "      <td>0</td>\n",
       "      <td>1</td>\n",
       "      <td>0</td>\n",
       "      <td>0</td>\n",
       "      <td>1</td>\n",
       "      <td>0</td>\n",
       "      <td>1</td>\n",
       "      <td>0</td>\n",
       "      <td>1</td>\n",
       "      <td>0</td>\n",
       "    </tr>\n",
       "    <tr>\n",
       "      <th>3</th>\n",
       "      <td>1</td>\n",
       "      <td>34.0</td>\n",
       "      <td>20</td>\n",
       "      <td>19.0</td>\n",
       "      <td>470454.0</td>\n",
       "      <td>0</td>\n",
       "      <td>0</td>\n",
       "      <td>0</td>\n",
       "      <td>1</td>\n",
       "      <td>0</td>\n",
       "      <td>0</td>\n",
       "      <td>0</td>\n",
       "      <td>0</td>\n",
       "      <td>1</td>\n",
       "      <td>0</td>\n",
       "    </tr>\n",
       "    <tr>\n",
       "      <th>4</th>\n",
       "      <td>0</td>\n",
       "      <td>30.0</td>\n",
       "      <td>32</td>\n",
       "      <td>33.0</td>\n",
       "      <td>886787.0</td>\n",
       "      <td>0</td>\n",
       "      <td>0</td>\n",
       "      <td>0</td>\n",
       "      <td>1</td>\n",
       "      <td>0</td>\n",
       "      <td>0</td>\n",
       "      <td>0</td>\n",
       "      <td>0</td>\n",
       "      <td>1</td>\n",
       "      <td>0</td>\n",
       "    </tr>\n",
       "    <tr>\n",
       "      <th>...</th>\n",
       "      <td>...</td>\n",
       "      <td>...</td>\n",
       "      <td>...</td>\n",
       "      <td>...</td>\n",
       "      <td>...</td>\n",
       "      <td>...</td>\n",
       "      <td>...</td>\n",
       "      <td>...</td>\n",
       "      <td>...</td>\n",
       "      <td>...</td>\n",
       "      <td>...</td>\n",
       "      <td>...</td>\n",
       "      <td>...</td>\n",
       "      <td>...</td>\n",
       "      <td>...</td>\n",
       "    </tr>\n",
       "    <tr>\n",
       "      <th>245720</th>\n",
       "      <td>1</td>\n",
       "      <td>51.0</td>\n",
       "      <td>34</td>\n",
       "      <td>109.0</td>\n",
       "      <td>1925586.0</td>\n",
       "      <td>0</td>\n",
       "      <td>0</td>\n",
       "      <td>0</td>\n",
       "      <td>0</td>\n",
       "      <td>1</td>\n",
       "      <td>0</td>\n",
       "      <td>1</td>\n",
       "      <td>0</td>\n",
       "      <td>0</td>\n",
       "      <td>0</td>\n",
       "    </tr>\n",
       "    <tr>\n",
       "      <th>245721</th>\n",
       "      <td>1</td>\n",
       "      <td>27.0</td>\n",
       "      <td>18</td>\n",
       "      <td>15.0</td>\n",
       "      <td>862952.0</td>\n",
       "      <td>0</td>\n",
       "      <td>1</td>\n",
       "      <td>0</td>\n",
       "      <td>1</td>\n",
       "      <td>0</td>\n",
       "      <td>0</td>\n",
       "      <td>0</td>\n",
       "      <td>0</td>\n",
       "      <td>1</td>\n",
       "      <td>0</td>\n",
       "    </tr>\n",
       "    <tr>\n",
       "      <th>245722</th>\n",
       "      <td>0</td>\n",
       "      <td>26.0</td>\n",
       "      <td>31</td>\n",
       "      <td>13.0</td>\n",
       "      <td>670659.0</td>\n",
       "      <td>0</td>\n",
       "      <td>0</td>\n",
       "      <td>0</td>\n",
       "      <td>1</td>\n",
       "      <td>0</td>\n",
       "      <td>0</td>\n",
       "      <td>0</td>\n",
       "      <td>0</td>\n",
       "      <td>1</td>\n",
       "      <td>0</td>\n",
       "    </tr>\n",
       "    <tr>\n",
       "      <th>245723</th>\n",
       "      <td>0</td>\n",
       "      <td>28.0</td>\n",
       "      <td>23</td>\n",
       "      <td>31.0</td>\n",
       "      <td>407504.0</td>\n",
       "      <td>0</td>\n",
       "      <td>0</td>\n",
       "      <td>0</td>\n",
       "      <td>1</td>\n",
       "      <td>0</td>\n",
       "      <td>0</td>\n",
       "      <td>0</td>\n",
       "      <td>0</td>\n",
       "      <td>1</td>\n",
       "      <td>0</td>\n",
       "    </tr>\n",
       "    <tr>\n",
       "      <th>245724</th>\n",
       "      <td>1</td>\n",
       "      <td>29.0</td>\n",
       "      <td>19</td>\n",
       "      <td>21.0</td>\n",
       "      <td>1129276.0</td>\n",
       "      <td>0</td>\n",
       "      <td>0</td>\n",
       "      <td>0</td>\n",
       "      <td>1</td>\n",
       "      <td>0</td>\n",
       "      <td>0</td>\n",
       "      <td>0</td>\n",
       "      <td>0</td>\n",
       "      <td>1</td>\n",
       "      <td>0</td>\n",
       "    </tr>\n",
       "  </tbody>\n",
       "</table>\n",
       "<p>245725 rows × 15 columns</p>\n",
       "</div>"
      ],
      "text/plain": [
       "        Gender   Age  Region_Code  Vintage  Avg_Account_Balance  Is_Lead  \\\n",
       "0            0  73.0           18     43.0            1045696.0        0   \n",
       "1            0  30.0           27     32.0             581988.0        0   \n",
       "2            0  56.0           18     26.0            1484315.0        0   \n",
       "3            1  34.0           20     19.0             470454.0        0   \n",
       "4            0  30.0           32     33.0             886787.0        0   \n",
       "...        ...   ...          ...      ...                  ...      ...   \n",
       "245720       1  51.0           34    109.0            1925586.0        0   \n",
       "245721       1  27.0           18     15.0             862952.0        0   \n",
       "245722       0  26.0           31     13.0             670659.0        0   \n",
       "245723       0  28.0           23     31.0             407504.0        0   \n",
       "245724       1  29.0           19     21.0            1129276.0        0   \n",
       "\n",
       "        Is_Active_Yes  Occupation_Other  Occupation_Salaried  \\\n",
       "0                   0                 1                    0   \n",
       "1                   0                 0                    1   \n",
       "2                   1                 0                    0   \n",
       "3                   0                 0                    1   \n",
       "4                   0                 0                    1   \n",
       "...               ...               ...                  ...   \n",
       "245720              0                 0                    0   \n",
       "245721              1                 0                    1   \n",
       "245722              0                 0                    1   \n",
       "245723              0                 0                    1   \n",
       "245724              0                 0                    1   \n",
       "\n",
       "        Occupation_Self_Employed  Channel_Code_X2  Channel_Code_X3  \\\n",
       "0                              0                0                1   \n",
       "1                              0                0                0   \n",
       "2                              1                0                1   \n",
       "3                              0                0                0   \n",
       "4                              0                0                0   \n",
       "...                          ...              ...              ...   \n",
       "245720                         1                0                1   \n",
       "245721                         0                0                0   \n",
       "245722                         0                0                0   \n",
       "245723                         0                0                0   \n",
       "245724                         0                0                0   \n",
       "\n",
       "        Channel_Code_X4  Credit_Product_No  Credit_Product_Yes  \n",
       "0                     0                  1                   0  \n",
       "1                     0                  1                   0  \n",
       "2                     0                  1                   0  \n",
       "3                     0                  1                   0  \n",
       "4                     0                  1                   0  \n",
       "...                 ...                ...                 ...  \n",
       "245720                0                  0                   0  \n",
       "245721                0                  1                   0  \n",
       "245722                0                  1                   0  \n",
       "245723                0                  1                   0  \n",
       "245724                0                  1                   0  \n",
       "\n",
       "[245725 rows x 15 columns]"
      ]
     },
     "execution_count": 36,
     "metadata": {},
     "output_type": "execute_result"
    }
   ],
   "source": [
    "train"
   ]
  },
  {
   "cell_type": "code",
   "execution_count": 37,
   "id": "a5e3377e",
   "metadata": {},
   "outputs": [],
   "source": [
    "def log_transform(x):\n",
    "    return np.log(x+1)\n",
    "\n",
    "train['Avg_Account_Balance'] = train['Avg_Account_Balance'].apply(log_transform)"
   ]
  },
  {
   "cell_type": "code",
   "execution_count": 38,
   "id": "cd3c5c69",
   "metadata": {},
   "outputs": [],
   "source": [
    "X_train = train.drop(['Is_Lead'],axis=1)\n",
    "y_train = train['Is_Lead']"
   ]
  },
  {
   "cell_type": "code",
   "execution_count": 39,
   "id": "69bf34ec",
   "metadata": {},
   "outputs": [],
   "source": [
    "from sklearn.preprocessing import StandardScaler\n",
    "sc = StandardScaler()\n",
    "sc = sc.fit(X_train)\n",
    "Scaled_X = pd.DataFrame(sc.transform(X_train),columns = X_train.columns)"
   ]
  },
  {
   "cell_type": "code",
   "execution_count": 40,
   "id": "a6a644cd",
   "metadata": {},
   "outputs": [
    {
     "data": {
      "text/html": [
       "<div>\n",
       "<style scoped>\n",
       "    .dataframe tbody tr th:only-of-type {\n",
       "        vertical-align: middle;\n",
       "    }\n",
       "\n",
       "    .dataframe tbody tr th {\n",
       "        vertical-align: top;\n",
       "    }\n",
       "\n",
       "    .dataframe thead th {\n",
       "        text-align: right;\n",
       "    }\n",
       "</style>\n",
       "<table border=\"1\" class=\"dataframe\">\n",
       "  <thead>\n",
       "    <tr style=\"text-align: right;\">\n",
       "      <th></th>\n",
       "      <th>Gender</th>\n",
       "      <th>Age</th>\n",
       "      <th>Region_Code</th>\n",
       "      <th>Vintage</th>\n",
       "      <th>Avg_Account_Balance</th>\n",
       "      <th>Is_Active_Yes</th>\n",
       "      <th>Occupation_Other</th>\n",
       "      <th>Occupation_Salaried</th>\n",
       "      <th>Occupation_Self_Employed</th>\n",
       "      <th>Channel_Code_X2</th>\n",
       "      <th>Channel_Code_X3</th>\n",
       "      <th>Channel_Code_X4</th>\n",
       "      <th>Credit_Product_No</th>\n",
       "      <th>Credit_Product_Yes</th>\n",
       "    </tr>\n",
       "  </thead>\n",
       "  <tbody>\n",
       "    <tr>\n",
       "      <th>0</th>\n",
       "      <td>-1.096931</td>\n",
       "      <td>1.965365</td>\n",
       "      <td>-0.172389</td>\n",
       "      <td>-0.122373</td>\n",
       "      <td>0.253246</td>\n",
       "      <td>-0.796872</td>\n",
       "      <td>1.581677</td>\n",
       "      <td>-0.643770</td>\n",
       "      <td>-0.834589</td>\n",
       "      <td>-0.616835</td>\n",
       "      <td>1.605042</td>\n",
       "      <td>-0.15228</td>\n",
       "      <td>0.837976</td>\n",
       "      <td>-0.644048</td>\n",
       "    </tr>\n",
       "    <tr>\n",
       "      <th>1</th>\n",
       "      <td>-1.096931</td>\n",
       "      <td>-0.934429</td>\n",
       "      <td>0.655830</td>\n",
       "      <td>-0.462372</td>\n",
       "      <td>-0.761478</td>\n",
       "      <td>-0.796872</td>\n",
       "      <td>-0.632240</td>\n",
       "      <td>1.553349</td>\n",
       "      <td>-0.834589</td>\n",
       "      <td>-0.616835</td>\n",
       "      <td>-0.623037</td>\n",
       "      <td>-0.15228</td>\n",
       "      <td>0.837976</td>\n",
       "      <td>-0.644048</td>\n",
       "    </tr>\n",
       "    <tr>\n",
       "      <th>2</th>\n",
       "      <td>-1.096931</td>\n",
       "      <td>0.818935</td>\n",
       "      <td>-0.172389</td>\n",
       "      <td>-0.647825</td>\n",
       "      <td>0.859791</td>\n",
       "      <td>1.254906</td>\n",
       "      <td>-0.632240</td>\n",
       "      <td>-0.643770</td>\n",
       "      <td>1.198194</td>\n",
       "      <td>-0.616835</td>\n",
       "      <td>1.605042</td>\n",
       "      <td>-0.15228</td>\n",
       "      <td>0.837976</td>\n",
       "      <td>-0.644048</td>\n",
       "    </tr>\n",
       "    <tr>\n",
       "      <th>3</th>\n",
       "      <td>0.911634</td>\n",
       "      <td>-0.664680</td>\n",
       "      <td>0.011660</td>\n",
       "      <td>-0.864188</td>\n",
       "      <td>-1.129888</td>\n",
       "      <td>-0.796872</td>\n",
       "      <td>-0.632240</td>\n",
       "      <td>1.553349</td>\n",
       "      <td>-0.834589</td>\n",
       "      <td>-0.616835</td>\n",
       "      <td>-0.623037</td>\n",
       "      <td>-0.15228</td>\n",
       "      <td>0.837976</td>\n",
       "      <td>-0.644048</td>\n",
       "    </tr>\n",
       "    <tr>\n",
       "      <th>4</th>\n",
       "      <td>-1.096931</td>\n",
       "      <td>-0.934429</td>\n",
       "      <td>1.115951</td>\n",
       "      <td>-0.431463</td>\n",
       "      <td>-0.032187</td>\n",
       "      <td>-0.796872</td>\n",
       "      <td>-0.632240</td>\n",
       "      <td>1.553349</td>\n",
       "      <td>-0.834589</td>\n",
       "      <td>-0.616835</td>\n",
       "      <td>-0.623037</td>\n",
       "      <td>-0.15228</td>\n",
       "      <td>0.837976</td>\n",
       "      <td>-0.644048</td>\n",
       "    </tr>\n",
       "    <tr>\n",
       "      <th>...</th>\n",
       "      <td>...</td>\n",
       "      <td>...</td>\n",
       "      <td>...</td>\n",
       "      <td>...</td>\n",
       "      <td>...</td>\n",
       "      <td>...</td>\n",
       "      <td>...</td>\n",
       "      <td>...</td>\n",
       "      <td>...</td>\n",
       "      <td>...</td>\n",
       "      <td>...</td>\n",
       "      <td>...</td>\n",
       "      <td>...</td>\n",
       "      <td>...</td>\n",
       "    </tr>\n",
       "    <tr>\n",
       "      <th>245720</th>\n",
       "      <td>0.911634</td>\n",
       "      <td>0.481750</td>\n",
       "      <td>1.300000</td>\n",
       "      <td>1.917619</td>\n",
       "      <td>1.310499</td>\n",
       "      <td>-0.796872</td>\n",
       "      <td>-0.632240</td>\n",
       "      <td>-0.643770</td>\n",
       "      <td>1.198194</td>\n",
       "      <td>-0.616835</td>\n",
       "      <td>1.605042</td>\n",
       "      <td>-0.15228</td>\n",
       "      <td>-1.193352</td>\n",
       "      <td>-0.644048</td>\n",
       "    </tr>\n",
       "    <tr>\n",
       "      <th>245721</th>\n",
       "      <td>0.911634</td>\n",
       "      <td>-1.136740</td>\n",
       "      <td>-0.172389</td>\n",
       "      <td>-0.987824</td>\n",
       "      <td>-0.079367</td>\n",
       "      <td>1.254906</td>\n",
       "      <td>-0.632240</td>\n",
       "      <td>1.553349</td>\n",
       "      <td>-0.834589</td>\n",
       "      <td>-0.616835</td>\n",
       "      <td>-0.623037</td>\n",
       "      <td>-0.15228</td>\n",
       "      <td>0.837976</td>\n",
       "      <td>-0.644048</td>\n",
       "    </tr>\n",
       "    <tr>\n",
       "      <th>245722</th>\n",
       "      <td>-1.096931</td>\n",
       "      <td>-1.204177</td>\n",
       "      <td>1.023927</td>\n",
       "      <td>-1.049642</td>\n",
       "      <td>-0.515912</td>\n",
       "      <td>-0.796872</td>\n",
       "      <td>-0.632240</td>\n",
       "      <td>1.553349</td>\n",
       "      <td>-0.834589</td>\n",
       "      <td>-0.616835</td>\n",
       "      <td>-0.623037</td>\n",
       "      <td>-0.15228</td>\n",
       "      <td>0.837976</td>\n",
       "      <td>-0.644048</td>\n",
       "    </tr>\n",
       "    <tr>\n",
       "      <th>245723</th>\n",
       "      <td>-1.096931</td>\n",
       "      <td>-1.069303</td>\n",
       "      <td>0.287733</td>\n",
       "      <td>-0.493281</td>\n",
       "      <td>-1.378635</td>\n",
       "      <td>-0.796872</td>\n",
       "      <td>-0.632240</td>\n",
       "      <td>1.553349</td>\n",
       "      <td>-0.834589</td>\n",
       "      <td>-0.616835</td>\n",
       "      <td>-0.623037</td>\n",
       "      <td>-0.15228</td>\n",
       "      <td>0.837976</td>\n",
       "      <td>-0.644048</td>\n",
       "    </tr>\n",
       "    <tr>\n",
       "      <th>245724</th>\n",
       "      <td>0.911634</td>\n",
       "      <td>-1.001866</td>\n",
       "      <td>-0.080365</td>\n",
       "      <td>-0.802370</td>\n",
       "      <td>0.386399</td>\n",
       "      <td>-0.796872</td>\n",
       "      <td>-0.632240</td>\n",
       "      <td>1.553349</td>\n",
       "      <td>-0.834589</td>\n",
       "      <td>-0.616835</td>\n",
       "      <td>-0.623037</td>\n",
       "      <td>-0.15228</td>\n",
       "      <td>0.837976</td>\n",
       "      <td>-0.644048</td>\n",
       "    </tr>\n",
       "  </tbody>\n",
       "</table>\n",
       "<p>245725 rows × 14 columns</p>\n",
       "</div>"
      ],
      "text/plain": [
       "          Gender       Age  Region_Code   Vintage  Avg_Account_Balance  \\\n",
       "0      -1.096931  1.965365    -0.172389 -0.122373             0.253246   \n",
       "1      -1.096931 -0.934429     0.655830 -0.462372            -0.761478   \n",
       "2      -1.096931  0.818935    -0.172389 -0.647825             0.859791   \n",
       "3       0.911634 -0.664680     0.011660 -0.864188            -1.129888   \n",
       "4      -1.096931 -0.934429     1.115951 -0.431463            -0.032187   \n",
       "...          ...       ...          ...       ...                  ...   \n",
       "245720  0.911634  0.481750     1.300000  1.917619             1.310499   \n",
       "245721  0.911634 -1.136740    -0.172389 -0.987824            -0.079367   \n",
       "245722 -1.096931 -1.204177     1.023927 -1.049642            -0.515912   \n",
       "245723 -1.096931 -1.069303     0.287733 -0.493281            -1.378635   \n",
       "245724  0.911634 -1.001866    -0.080365 -0.802370             0.386399   \n",
       "\n",
       "        Is_Active_Yes  Occupation_Other  Occupation_Salaried  \\\n",
       "0           -0.796872          1.581677            -0.643770   \n",
       "1           -0.796872         -0.632240             1.553349   \n",
       "2            1.254906         -0.632240            -0.643770   \n",
       "3           -0.796872         -0.632240             1.553349   \n",
       "4           -0.796872         -0.632240             1.553349   \n",
       "...               ...               ...                  ...   \n",
       "245720      -0.796872         -0.632240            -0.643770   \n",
       "245721       1.254906         -0.632240             1.553349   \n",
       "245722      -0.796872         -0.632240             1.553349   \n",
       "245723      -0.796872         -0.632240             1.553349   \n",
       "245724      -0.796872         -0.632240             1.553349   \n",
       "\n",
       "        Occupation_Self_Employed  Channel_Code_X2  Channel_Code_X3  \\\n",
       "0                      -0.834589        -0.616835         1.605042   \n",
       "1                      -0.834589        -0.616835        -0.623037   \n",
       "2                       1.198194        -0.616835         1.605042   \n",
       "3                      -0.834589        -0.616835        -0.623037   \n",
       "4                      -0.834589        -0.616835        -0.623037   \n",
       "...                          ...              ...              ...   \n",
       "245720                  1.198194        -0.616835         1.605042   \n",
       "245721                 -0.834589        -0.616835        -0.623037   \n",
       "245722                 -0.834589        -0.616835        -0.623037   \n",
       "245723                 -0.834589        -0.616835        -0.623037   \n",
       "245724                 -0.834589        -0.616835        -0.623037   \n",
       "\n",
       "        Channel_Code_X4  Credit_Product_No  Credit_Product_Yes  \n",
       "0              -0.15228           0.837976           -0.644048  \n",
       "1              -0.15228           0.837976           -0.644048  \n",
       "2              -0.15228           0.837976           -0.644048  \n",
       "3              -0.15228           0.837976           -0.644048  \n",
       "4              -0.15228           0.837976           -0.644048  \n",
       "...                 ...                ...                 ...  \n",
       "245720         -0.15228          -1.193352           -0.644048  \n",
       "245721         -0.15228           0.837976           -0.644048  \n",
       "245722         -0.15228           0.837976           -0.644048  \n",
       "245723         -0.15228           0.837976           -0.644048  \n",
       "245724         -0.15228           0.837976           -0.644048  \n",
       "\n",
       "[245725 rows x 14 columns]"
      ]
     },
     "execution_count": 40,
     "metadata": {},
     "output_type": "execute_result"
    }
   ],
   "source": [
    "Scaled_X"
   ]
  },
  {
   "cell_type": "code",
   "execution_count": 41,
   "id": "beb03d21",
   "metadata": {},
   "outputs": [],
   "source": [
    "from sklearn.linear_model import LogisticRegression\n",
    "from sklearn.neighbors import KNeighborsClassifier\n",
    "from sklearn.ensemble import RandomForestClassifier\n",
    "from sklearn.tree import DecisionTreeClassifier\n",
    "from sklearn.naive_bayes import GaussianNB\n",
    "from sklearn.decomposition import PCA\n",
    "from scipy.stats import zscore\n",
    "from sklearn.model_selection import train_test_split, GridSearchCV\n",
    "from sklearn import metrics\n",
    "from sklearn.preprocessing import PolynomialFeatures\n",
    "from sklearn.pipeline import Pipeline\n",
    "from sklearn.preprocessing import StandardScaler\n",
    "from sklearn.metrics import precision_score, recall_score, confusion_matrix, f1_score, roc_auc_score, roc_curve\n",
    "from sklearn.metrics import accuracy_score,classification_report,confusion_matrix,roc_auc_score,roc_curve\n",
    "from sklearn.metrics import auc\n",
    "from sklearn.metrics import plot_roc_curve\n",
    "from sklearn.model_selection import cross_val_score"
   ]
  },
  {
   "cell_type": "code",
   "execution_count": 42,
   "id": "8bd2c6b2",
   "metadata": {},
   "outputs": [],
   "source": [
    "models =[]\n",
    "models.append(('LR', LogisticRegression()))\n",
    "#models.append(('KNN', KNeighborsClassifier()))\n",
    "models.append(('RF', RandomForestClassifier()))\n",
    "models.append(('GNB', GaussianNB()))\n",
    "models.append(('DTC', DecisionTreeClassifier()))"
   ]
  },
  {
   "cell_type": "code",
   "execution_count": 43,
   "id": "9fce5ab8",
   "metadata": {},
   "outputs": [
    {
     "name": "stdout",
     "output_type": "stream",
     "text": [
      "LR 0.8579089667422557 0.853437786143046 0.0003530002798608172 [0.85290467 0.85329128 0.8536372  0.85339302 0.85396276] 0.8579089667422557\n",
      "RF 0.8550898491153267 0.8517855326075898 0.0015419718892664153 [0.85141927 0.85125649 0.85044257 0.84952691 0.85477668] 0.8550898491153267\n",
      "GNB 0.7897930149038275 0.7655590599247126 0.0006940530325728242 [0.76612066 0.76548988 0.76428935 0.76565266 0.76624275] 0.7897930149038275\n",
      "DTC 0.7085013729446452 0.7849913521212738 0.001367370124311099 [0.78589887 0.78386408 0.78671279 0.78266355 0.78445417] 0.7085013729446452\n"
     ]
    }
   ],
   "source": [
    "for name, model in models:\n",
    "    max_acc = 0\n",
    "    max_roc = 0\n",
    "    train_x, test_x, train_y, test_y = train_test_split(Scaled_X, y_train, random_state = 42, test_size=0.2, stratify = y_train)\n",
    "    model.fit(train_x, train_y)\n",
    "    y_pred = model.predict_proba(test_x)[:,1]\n",
    "    roc = roc_auc_score(test_y, y_pred)\n",
    "    acc = accuracy_score(test_y, model.predict(test_x))\n",
    "    if roc>max_roc:\n",
    "        max_roc = roc\n",
    "        selectmodel = model\n",
    "        mean_acc = cross_val_score(selectmodel, Scaled_X, y_train, cv=5, scoring='accuracy').mean()\n",
    "        std = cross_val_score(selectmodel, Scaled_X, y_train, cv=5, scoring='accuracy').std()\n",
    "        cvs = cross_val_score(selectmodel, Scaled_X, y_train, cv=5, scoring='accuracy')\n",
    "    print(name, max_roc, mean_acc, std, cvs, roc)"
   ]
  },
  {
   "cell_type": "code",
   "execution_count": 47,
   "id": "4853ccfd",
   "metadata": {},
   "outputs": [
    {
     "name": "stderr",
     "output_type": "stream",
     "text": [
      "C:\\Anaconda\\lib\\site-packages\\scipy\\optimize\\linesearch.py:327: LineSearchWarning: The line search algorithm did not converge\n",
      "  warn('The line search algorithm did not converge', LineSearchWarning)\n",
      "C:\\Anaconda\\lib\\site-packages\\sklearn\\utils\\optimize.py:195: UserWarning: Line Search failed\n",
      "  warnings.warn('Line Search failed')\n"
     ]
    },
    {
     "name": "stdout",
     "output_type": "stream",
     "text": [
      "LogisticRegression(C=0.01, solver='liblinear')\n",
      "0.8582538249354876\n"
     ]
    }
   ],
   "source": [
    "C = [100,10,1,0.1,0.01]\n",
    "#penalty = ['l1','l2']\n",
    "solver = ['liblinear','lbfgs','newton-cg']\n",
    "param_grid = dict(solver=solver, C=C)\n",
    "lr = LogisticRegression()\n",
    "cv = GridSearchCV(lr, param_grid= param_grid, cv=5, scoring='roc_auc')\n",
    "cv.fit(Scaled_X,y_train)\n",
    "print(cv.best_estimator_)\n",
    "print(cv.best_score_)"
   ]
  },
  {
   "cell_type": "code",
   "execution_count": 48,
   "id": "5af8906c",
   "metadata": {},
   "outputs": [
    {
     "name": "stdout",
     "output_type": "stream",
     "text": [
      "RandomForestClassifier(max_depth=11, n_estimators=150)\n",
      "0.8729405188125297\n"
     ]
    }
   ],
   "source": [
    "param_grid_rf = {\n",
    "    'n_estimators':[100,125,150],\n",
    "    'max_depth':[7,9,11,13]\n",
    "}\n",
    "rf = RandomForestClassifier()\n",
    "\n",
    "cv2 = GridSearchCV(rf, param_grid=param_grid_rf, cv=5, scoring='roc_auc')\n",
    "cv2.fit(Scaled_X,y_train)\n",
    "print(cv2.best_estimator_)\n",
    "print(cv2.best_score_)"
   ]
  },
  {
   "cell_type": "code",
   "execution_count": 49,
   "id": "c395543b",
   "metadata": {},
   "outputs": [
    {
     "name": "stdout",
     "output_type": "stream",
     "text": [
      "<function auc at 0x000001901A207C10> 0.8545528537999797\n"
     ]
    }
   ],
   "source": [
    "lr2 = LogisticRegression(C=0.01, solver='liblinear')\n",
    "train_x, test_x, train_y, test_y = train_test_split(Scaled_X, y_train, random_state=1,test_size=0.2,stratify=y_train)\n",
    "lr2.fit(train_x,train_y)\n",
    "y_pred = lr2.predict(test_x)\n",
    "roc = roc_auc_score(test_y, y_pred)\n",
    "acc = accuracy_score(test_y, y_pred)\n",
    "print(auc, acc)"
   ]
  },
  {
   "cell_type": "code",
   "execution_count": 50,
   "id": "255b9976",
   "metadata": {},
   "outputs": [
    {
     "name": "stdout",
     "output_type": "stream",
     "text": [
      "<function auc at 0x000001901A207C10> 0.8614508088310103\n"
     ]
    }
   ],
   "source": [
    "rf2 = RandomForestClassifier(max_depth=11, n_estimators= 150)\n",
    "train_x, test_x, train_y, test_y = train_test_split(Scaled_X, y_train, random_state=1,test_size=0.2,stratify=y_train)\n",
    "rf2.fit(train_x,train_y)\n",
    "y_pred = rf2.predict(test_x)\n",
    "roc = roc_auc_score(test_y, y_pred)\n",
    "acc = accuracy_score(test_y, y_pred)\n",
    "print(auc, acc)"
   ]
  },
  {
   "cell_type": "code",
   "execution_count": 51,
   "id": "07c0b96f",
   "metadata": {},
   "outputs": [
    {
     "data": {
      "text/plain": [
       "RandomForestClassifier(max_depth=11, n_estimators=150)"
      ]
     },
     "execution_count": 51,
     "metadata": {},
     "output_type": "execute_result"
    }
   ],
   "source": [
    "rf2.fit(Scaled_X, y_train)"
   ]
  },
  {
   "cell_type": "code",
   "execution_count": 70,
   "id": "430aaf59",
   "metadata": {},
   "outputs": [],
   "source": [
    "trainf = pd.read_csv('train.csv')\n",
    "testf = pd.read_csv('test.csv')"
   ]
  },
  {
   "cell_type": "code",
   "execution_count": 71,
   "id": "0df3d95f",
   "metadata": {},
   "outputs": [],
   "source": [
    "combined = pd.concat([trainf,testf],ignore_index=True)"
   ]
  },
  {
   "cell_type": "code",
   "execution_count": 72,
   "id": "6c84a593",
   "metadata": {},
   "outputs": [],
   "source": [
    "combined['Credit_Product']=combined['Credit_Product'].fillna('NA')"
   ]
  },
  {
   "cell_type": "code",
   "execution_count": 73,
   "id": "c82791bf",
   "metadata": {},
   "outputs": [
    {
     "data": {
      "text/html": [
       "<div>\n",
       "<style scoped>\n",
       "    .dataframe tbody tr th:only-of-type {\n",
       "        vertical-align: middle;\n",
       "    }\n",
       "\n",
       "    .dataframe tbody tr th {\n",
       "        vertical-align: top;\n",
       "    }\n",
       "\n",
       "    .dataframe thead th {\n",
       "        text-align: right;\n",
       "    }\n",
       "</style>\n",
       "<table border=\"1\" class=\"dataframe\">\n",
       "  <thead>\n",
       "    <tr style=\"text-align: right;\">\n",
       "      <th></th>\n",
       "      <th>ID</th>\n",
       "      <th>Gender</th>\n",
       "      <th>Age</th>\n",
       "      <th>Region_Code</th>\n",
       "      <th>Occupation</th>\n",
       "      <th>Channel_Code</th>\n",
       "      <th>Vintage</th>\n",
       "      <th>Credit_Product</th>\n",
       "      <th>Avg_Account_Balance</th>\n",
       "      <th>Is_Active</th>\n",
       "      <th>Is_Lead</th>\n",
       "    </tr>\n",
       "  </thead>\n",
       "  <tbody>\n",
       "    <tr>\n",
       "      <th>0</th>\n",
       "      <td>NNVBBKZB</td>\n",
       "      <td>Female</td>\n",
       "      <td>73</td>\n",
       "      <td>RG268</td>\n",
       "      <td>Other</td>\n",
       "      <td>X3</td>\n",
       "      <td>43</td>\n",
       "      <td>No</td>\n",
       "      <td>1045696</td>\n",
       "      <td>0</td>\n",
       "      <td>0.0</td>\n",
       "    </tr>\n",
       "    <tr>\n",
       "      <th>1</th>\n",
       "      <td>IDD62UNG</td>\n",
       "      <td>Female</td>\n",
       "      <td>30</td>\n",
       "      <td>RG277</td>\n",
       "      <td>Salaried</td>\n",
       "      <td>X1</td>\n",
       "      <td>32</td>\n",
       "      <td>No</td>\n",
       "      <td>581988</td>\n",
       "      <td>0</td>\n",
       "      <td>0.0</td>\n",
       "    </tr>\n",
       "    <tr>\n",
       "      <th>2</th>\n",
       "      <td>HD3DSEMC</td>\n",
       "      <td>Female</td>\n",
       "      <td>56</td>\n",
       "      <td>RG268</td>\n",
       "      <td>Self_Employed</td>\n",
       "      <td>X3</td>\n",
       "      <td>26</td>\n",
       "      <td>No</td>\n",
       "      <td>1484315</td>\n",
       "      <td>1</td>\n",
       "      <td>0.0</td>\n",
       "    </tr>\n",
       "    <tr>\n",
       "      <th>3</th>\n",
       "      <td>BF3NC7KV</td>\n",
       "      <td>Male</td>\n",
       "      <td>34</td>\n",
       "      <td>RG270</td>\n",
       "      <td>Salaried</td>\n",
       "      <td>X1</td>\n",
       "      <td>19</td>\n",
       "      <td>No</td>\n",
       "      <td>470454</td>\n",
       "      <td>0</td>\n",
       "      <td>0.0</td>\n",
       "    </tr>\n",
       "    <tr>\n",
       "      <th>4</th>\n",
       "      <td>TEASRWXV</td>\n",
       "      <td>Female</td>\n",
       "      <td>30</td>\n",
       "      <td>RG282</td>\n",
       "      <td>Salaried</td>\n",
       "      <td>X1</td>\n",
       "      <td>33</td>\n",
       "      <td>No</td>\n",
       "      <td>886787</td>\n",
       "      <td>0</td>\n",
       "      <td>0.0</td>\n",
       "    </tr>\n",
       "  </tbody>\n",
       "</table>\n",
       "</div>"
      ],
      "text/plain": [
       "         ID  Gender  Age Region_Code     Occupation Channel_Code  Vintage  \\\n",
       "0  NNVBBKZB  Female   73       RG268          Other           X3       43   \n",
       "1  IDD62UNG  Female   30       RG277       Salaried           X1       32   \n",
       "2  HD3DSEMC  Female   56       RG268  Self_Employed           X3       26   \n",
       "3  BF3NC7KV    Male   34       RG270       Salaried           X1       19   \n",
       "4  TEASRWXV  Female   30       RG282       Salaried           X1       33   \n",
       "\n",
       "  Credit_Product  Avg_Account_Balance  Is_Active  Is_Lead  \n",
       "0             No              1045696          0      0.0  \n",
       "1             No               581988          0      0.0  \n",
       "2             No              1484315          1      0.0  \n",
       "3             No               470454          0      0.0  \n",
       "4             No               886787          0      0.0  "
      ]
     },
     "execution_count": 73,
     "metadata": {},
     "output_type": "execute_result"
    }
   ],
   "source": [
    "combined[\"Is_Active\"].replace([\"Yes\",\"No\"],[1,0],inplace=True)\n",
    "combined.head()"
   ]
  },
  {
   "cell_type": "code",
   "execution_count": 74,
   "id": "3cc048d0",
   "metadata": {},
   "outputs": [],
   "source": [
    "combined['Avg_Account_Balance'] = combined['Avg_Account_Balance'].apply(log_transform)"
   ]
  },
  {
   "cell_type": "code",
   "execution_count": 75,
   "id": "2128fbe8",
   "metadata": {},
   "outputs": [],
   "source": [
    "lr, ur = outliers(combined['Avg_Account_Balance'])\n",
    "combined['Avg_Account_Balance'] = np.where(combined['Avg_Account_Balance']>ur,ur,combined['Avg_Account_Balance'])\n",
    "combined['Avg_Account_Balance'] = np.where(combined['Avg_Account_Balance']<lr,lr,combined['Avg_Account_Balance'])"
   ]
  },
  {
   "cell_type": "code",
   "execution_count": 78,
   "id": "e8ed44cc",
   "metadata": {},
   "outputs": [
    {
     "data": {
      "text/html": [
       "<div>\n",
       "<style scoped>\n",
       "    .dataframe tbody tr th:only-of-type {\n",
       "        vertical-align: middle;\n",
       "    }\n",
       "\n",
       "    .dataframe tbody tr th {\n",
       "        vertical-align: top;\n",
       "    }\n",
       "\n",
       "    .dataframe thead th {\n",
       "        text-align: right;\n",
       "    }\n",
       "</style>\n",
       "<table border=\"1\" class=\"dataframe\">\n",
       "  <thead>\n",
       "    <tr style=\"text-align: right;\">\n",
       "      <th></th>\n",
       "      <th>ID</th>\n",
       "      <th>Gender</th>\n",
       "      <th>Age</th>\n",
       "      <th>Region_Code</th>\n",
       "      <th>Occupation</th>\n",
       "      <th>Channel_Code</th>\n",
       "      <th>Vintage</th>\n",
       "      <th>Credit_Product</th>\n",
       "      <th>Avg_Account_Balance</th>\n",
       "      <th>Is_Active</th>\n",
       "      <th>Is_Lead</th>\n",
       "    </tr>\n",
       "  </thead>\n",
       "  <tbody>\n",
       "    <tr>\n",
       "      <th>0</th>\n",
       "      <td>NNVBBKZB</td>\n",
       "      <td>0</td>\n",
       "      <td>73</td>\n",
       "      <td>18</td>\n",
       "      <td>Other</td>\n",
       "      <td>X3</td>\n",
       "      <td>43</td>\n",
       "      <td>No</td>\n",
       "      <td>13.860194</td>\n",
       "      <td>0</td>\n",
       "      <td>0.0</td>\n",
       "    </tr>\n",
       "  </tbody>\n",
       "</table>\n",
       "</div>"
      ],
      "text/plain": [
       "         ID  Gender  Age  Region_Code Occupation Channel_Code  Vintage  \\\n",
       "0  NNVBBKZB       0   73           18      Other           X3       43   \n",
       "\n",
       "  Credit_Product  Avg_Account_Balance  Is_Active  Is_Lead  \n",
       "0             No            13.860194          0      0.0  "
      ]
     },
     "execution_count": 78,
     "metadata": {},
     "output_type": "execute_result"
    }
   ],
   "source": [
    "le = LabelEncoder()\n",
    "for col in ['Gender','Region_Code']:\n",
    "    combined[col]= le.fit_transform(combined[col])\n",
    "combined.head(1)"
   ]
  },
  {
   "cell_type": "code",
   "execution_count": 79,
   "id": "c336709e",
   "metadata": {
    "scrolled": true
   },
   "outputs": [
    {
     "data": {
      "text/html": [
       "<div>\n",
       "<style scoped>\n",
       "    .dataframe tbody tr th:only-of-type {\n",
       "        vertical-align: middle;\n",
       "    }\n",
       "\n",
       "    .dataframe tbody tr th {\n",
       "        vertical-align: top;\n",
       "    }\n",
       "\n",
       "    .dataframe thead th {\n",
       "        text-align: right;\n",
       "    }\n",
       "</style>\n",
       "<table border=\"1\" class=\"dataframe\">\n",
       "  <thead>\n",
       "    <tr style=\"text-align: right;\">\n",
       "      <th></th>\n",
       "      <th>ID</th>\n",
       "      <th>Gender</th>\n",
       "      <th>Age</th>\n",
       "      <th>Region_Code</th>\n",
       "      <th>Vintage</th>\n",
       "      <th>Avg_Account_Balance</th>\n",
       "      <th>Is_Active</th>\n",
       "      <th>Is_Lead</th>\n",
       "      <th>Credit_Product_No</th>\n",
       "      <th>Credit_Product_Yes</th>\n",
       "      <th>Occupation_Other</th>\n",
       "      <th>Occupation_Salaried</th>\n",
       "      <th>Occupation_Self_Employed</th>\n",
       "      <th>Channel_Code_X2</th>\n",
       "      <th>Channel_Code_X3</th>\n",
       "      <th>Channel_Code_X4</th>\n",
       "    </tr>\n",
       "  </thead>\n",
       "  <tbody>\n",
       "    <tr>\n",
       "      <th>0</th>\n",
       "      <td>NNVBBKZB</td>\n",
       "      <td>0</td>\n",
       "      <td>73</td>\n",
       "      <td>18</td>\n",
       "      <td>43</td>\n",
       "      <td>13.860194</td>\n",
       "      <td>0</td>\n",
       "      <td>0.0</td>\n",
       "      <td>1</td>\n",
       "      <td>0</td>\n",
       "      <td>1</td>\n",
       "      <td>0</td>\n",
       "      <td>0</td>\n",
       "      <td>0</td>\n",
       "      <td>1</td>\n",
       "      <td>0</td>\n",
       "    </tr>\n",
       "    <tr>\n",
       "      <th>1</th>\n",
       "      <td>IDD62UNG</td>\n",
       "      <td>0</td>\n",
       "      <td>30</td>\n",
       "      <td>27</td>\n",
       "      <td>32</td>\n",
       "      <td>13.274207</td>\n",
       "      <td>0</td>\n",
       "      <td>0.0</td>\n",
       "      <td>1</td>\n",
       "      <td>0</td>\n",
       "      <td>0</td>\n",
       "      <td>1</td>\n",
       "      <td>0</td>\n",
       "      <td>0</td>\n",
       "      <td>0</td>\n",
       "      <td>0</td>\n",
       "    </tr>\n",
       "    <tr>\n",
       "      <th>2</th>\n",
       "      <td>HD3DSEMC</td>\n",
       "      <td>0</td>\n",
       "      <td>56</td>\n",
       "      <td>18</td>\n",
       "      <td>26</td>\n",
       "      <td>14.210465</td>\n",
       "      <td>1</td>\n",
       "      <td>0.0</td>\n",
       "      <td>1</td>\n",
       "      <td>0</td>\n",
       "      <td>0</td>\n",
       "      <td>0</td>\n",
       "      <td>1</td>\n",
       "      <td>0</td>\n",
       "      <td>1</td>\n",
       "      <td>0</td>\n",
       "    </tr>\n",
       "    <tr>\n",
       "      <th>3</th>\n",
       "      <td>BF3NC7KV</td>\n",
       "      <td>1</td>\n",
       "      <td>34</td>\n",
       "      <td>20</td>\n",
       "      <td>19</td>\n",
       "      <td>13.061456</td>\n",
       "      <td>0</td>\n",
       "      <td>0.0</td>\n",
       "      <td>1</td>\n",
       "      <td>0</td>\n",
       "      <td>0</td>\n",
       "      <td>1</td>\n",
       "      <td>0</td>\n",
       "      <td>0</td>\n",
       "      <td>0</td>\n",
       "      <td>0</td>\n",
       "    </tr>\n",
       "    <tr>\n",
       "      <th>4</th>\n",
       "      <td>TEASRWXV</td>\n",
       "      <td>0</td>\n",
       "      <td>30</td>\n",
       "      <td>32</td>\n",
       "      <td>33</td>\n",
       "      <td>13.695361</td>\n",
       "      <td>0</td>\n",
       "      <td>0.0</td>\n",
       "      <td>1</td>\n",
       "      <td>0</td>\n",
       "      <td>0</td>\n",
       "      <td>1</td>\n",
       "      <td>0</td>\n",
       "      <td>0</td>\n",
       "      <td>0</td>\n",
       "      <td>0</td>\n",
       "    </tr>\n",
       "  </tbody>\n",
       "</table>\n",
       "</div>"
      ],
      "text/plain": [
       "         ID  Gender  Age  Region_Code  Vintage  Avg_Account_Balance  \\\n",
       "0  NNVBBKZB       0   73           18       43            13.860194   \n",
       "1  IDD62UNG       0   30           27       32            13.274207   \n",
       "2  HD3DSEMC       0   56           18       26            14.210465   \n",
       "3  BF3NC7KV       1   34           20       19            13.061456   \n",
       "4  TEASRWXV       0   30           32       33            13.695361   \n",
       "\n",
       "   Is_Active  Is_Lead  Credit_Product_No  Credit_Product_Yes  \\\n",
       "0          0      0.0                  1                   0   \n",
       "1          0      0.0                  1                   0   \n",
       "2          1      0.0                  1                   0   \n",
       "3          0      0.0                  1                   0   \n",
       "4          0      0.0                  1                   0   \n",
       "\n",
       "   Occupation_Other  Occupation_Salaried  Occupation_Self_Employed  \\\n",
       "0                 1                    0                         0   \n",
       "1                 0                    1                         0   \n",
       "2                 0                    0                         1   \n",
       "3                 0                    1                         0   \n",
       "4                 0                    1                         0   \n",
       "\n",
       "   Channel_Code_X2  Channel_Code_X3  Channel_Code_X4  \n",
       "0                0                1                0  \n",
       "1                0                0                0  \n",
       "2                0                1                0  \n",
       "3                0                0                0  \n",
       "4                0                0                0  "
      ]
     },
     "execution_count": 79,
     "metadata": {},
     "output_type": "execute_result"
    }
   ],
   "source": [
    "combined =pd.get_dummies(combined,columns =['Credit_Product','Occupation','Channel_Code'],drop_first = True)\n",
    "combined.head()"
   ]
  },
  {
   "cell_type": "code",
   "execution_count": 101,
   "id": "a6c47794",
   "metadata": {},
   "outputs": [],
   "source": [
    "Trainf = combined.dropna()\n",
    "Testf = combined[combined.Is_Lead.isna()]"
   ]
  },
  {
   "cell_type": "code",
   "execution_count": 102,
   "id": "8c8d3506",
   "metadata": {},
   "outputs": [
    {
     "data": {
      "text/html": [
       "<div>\n",
       "<style scoped>\n",
       "    .dataframe tbody tr th:only-of-type {\n",
       "        vertical-align: middle;\n",
       "    }\n",
       "\n",
       "    .dataframe tbody tr th {\n",
       "        vertical-align: top;\n",
       "    }\n",
       "\n",
       "    .dataframe thead th {\n",
       "        text-align: right;\n",
       "    }\n",
       "</style>\n",
       "<table border=\"1\" class=\"dataframe\">\n",
       "  <thead>\n",
       "    <tr style=\"text-align: right;\">\n",
       "      <th></th>\n",
       "      <th>ID</th>\n",
       "      <th>Gender</th>\n",
       "      <th>Age</th>\n",
       "      <th>Region_Code</th>\n",
       "      <th>Vintage</th>\n",
       "      <th>Avg_Account_Balance</th>\n",
       "      <th>Is_Active</th>\n",
       "      <th>Is_Lead</th>\n",
       "      <th>Credit_Product_No</th>\n",
       "      <th>Credit_Product_Yes</th>\n",
       "      <th>Occupation_Other</th>\n",
       "      <th>Occupation_Salaried</th>\n",
       "      <th>Occupation_Self_Employed</th>\n",
       "      <th>Channel_Code_X2</th>\n",
       "      <th>Channel_Code_X3</th>\n",
       "      <th>Channel_Code_X4</th>\n",
       "    </tr>\n",
       "  </thead>\n",
       "  <tbody>\n",
       "    <tr>\n",
       "      <th>0</th>\n",
       "      <td>NNVBBKZB</td>\n",
       "      <td>0</td>\n",
       "      <td>73</td>\n",
       "      <td>18</td>\n",
       "      <td>43</td>\n",
       "      <td>13.860194</td>\n",
       "      <td>0</td>\n",
       "      <td>0.0</td>\n",
       "      <td>1</td>\n",
       "      <td>0</td>\n",
       "      <td>1</td>\n",
       "      <td>0</td>\n",
       "      <td>0</td>\n",
       "      <td>0</td>\n",
       "      <td>1</td>\n",
       "      <td>0</td>\n",
       "    </tr>\n",
       "    <tr>\n",
       "      <th>1</th>\n",
       "      <td>IDD62UNG</td>\n",
       "      <td>0</td>\n",
       "      <td>30</td>\n",
       "      <td>27</td>\n",
       "      <td>32</td>\n",
       "      <td>13.274207</td>\n",
       "      <td>0</td>\n",
       "      <td>0.0</td>\n",
       "      <td>1</td>\n",
       "      <td>0</td>\n",
       "      <td>0</td>\n",
       "      <td>1</td>\n",
       "      <td>0</td>\n",
       "      <td>0</td>\n",
       "      <td>0</td>\n",
       "      <td>0</td>\n",
       "    </tr>\n",
       "    <tr>\n",
       "      <th>2</th>\n",
       "      <td>HD3DSEMC</td>\n",
       "      <td>0</td>\n",
       "      <td>56</td>\n",
       "      <td>18</td>\n",
       "      <td>26</td>\n",
       "      <td>14.210465</td>\n",
       "      <td>1</td>\n",
       "      <td>0.0</td>\n",
       "      <td>1</td>\n",
       "      <td>0</td>\n",
       "      <td>0</td>\n",
       "      <td>0</td>\n",
       "      <td>1</td>\n",
       "      <td>0</td>\n",
       "      <td>1</td>\n",
       "      <td>0</td>\n",
       "    </tr>\n",
       "    <tr>\n",
       "      <th>3</th>\n",
       "      <td>BF3NC7KV</td>\n",
       "      <td>1</td>\n",
       "      <td>34</td>\n",
       "      <td>20</td>\n",
       "      <td>19</td>\n",
       "      <td>13.061456</td>\n",
       "      <td>0</td>\n",
       "      <td>0.0</td>\n",
       "      <td>1</td>\n",
       "      <td>0</td>\n",
       "      <td>0</td>\n",
       "      <td>1</td>\n",
       "      <td>0</td>\n",
       "      <td>0</td>\n",
       "      <td>0</td>\n",
       "      <td>0</td>\n",
       "    </tr>\n",
       "    <tr>\n",
       "      <th>4</th>\n",
       "      <td>TEASRWXV</td>\n",
       "      <td>0</td>\n",
       "      <td>30</td>\n",
       "      <td>32</td>\n",
       "      <td>33</td>\n",
       "      <td>13.695361</td>\n",
       "      <td>0</td>\n",
       "      <td>0.0</td>\n",
       "      <td>1</td>\n",
       "      <td>0</td>\n",
       "      <td>0</td>\n",
       "      <td>1</td>\n",
       "      <td>0</td>\n",
       "      <td>0</td>\n",
       "      <td>0</td>\n",
       "      <td>0</td>\n",
       "    </tr>\n",
       "    <tr>\n",
       "      <th>...</th>\n",
       "      <td>...</td>\n",
       "      <td>...</td>\n",
       "      <td>...</td>\n",
       "      <td>...</td>\n",
       "      <td>...</td>\n",
       "      <td>...</td>\n",
       "      <td>...</td>\n",
       "      <td>...</td>\n",
       "      <td>...</td>\n",
       "      <td>...</td>\n",
       "      <td>...</td>\n",
       "      <td>...</td>\n",
       "      <td>...</td>\n",
       "      <td>...</td>\n",
       "      <td>...</td>\n",
       "      <td>...</td>\n",
       "    </tr>\n",
       "    <tr>\n",
       "      <th>245720</th>\n",
       "      <td>BPAWWXZN</td>\n",
       "      <td>1</td>\n",
       "      <td>51</td>\n",
       "      <td>34</td>\n",
       "      <td>109</td>\n",
       "      <td>14.470741</td>\n",
       "      <td>0</td>\n",
       "      <td>0.0</td>\n",
       "      <td>0</td>\n",
       "      <td>0</td>\n",
       "      <td>0</td>\n",
       "      <td>0</td>\n",
       "      <td>1</td>\n",
       "      <td>0</td>\n",
       "      <td>1</td>\n",
       "      <td>0</td>\n",
       "    </tr>\n",
       "    <tr>\n",
       "      <th>245721</th>\n",
       "      <td>HFNB7JY8</td>\n",
       "      <td>1</td>\n",
       "      <td>27</td>\n",
       "      <td>18</td>\n",
       "      <td>15</td>\n",
       "      <td>13.668116</td>\n",
       "      <td>1</td>\n",
       "      <td>0.0</td>\n",
       "      <td>1</td>\n",
       "      <td>0</td>\n",
       "      <td>0</td>\n",
       "      <td>1</td>\n",
       "      <td>0</td>\n",
       "      <td>0</td>\n",
       "      <td>0</td>\n",
       "      <td>0</td>\n",
       "    </tr>\n",
       "    <tr>\n",
       "      <th>245722</th>\n",
       "      <td>GEHAUCWT</td>\n",
       "      <td>0</td>\n",
       "      <td>26</td>\n",
       "      <td>31</td>\n",
       "      <td>13</td>\n",
       "      <td>13.416018</td>\n",
       "      <td>0</td>\n",
       "      <td>0.0</td>\n",
       "      <td>1</td>\n",
       "      <td>0</td>\n",
       "      <td>0</td>\n",
       "      <td>1</td>\n",
       "      <td>0</td>\n",
       "      <td>0</td>\n",
       "      <td>0</td>\n",
       "      <td>0</td>\n",
       "    </tr>\n",
       "    <tr>\n",
       "      <th>245723</th>\n",
       "      <td>GE7V8SAH</td>\n",
       "      <td>0</td>\n",
       "      <td>28</td>\n",
       "      <td>23</td>\n",
       "      <td>31</td>\n",
       "      <td>12.917808</td>\n",
       "      <td>0</td>\n",
       "      <td>0.0</td>\n",
       "      <td>1</td>\n",
       "      <td>0</td>\n",
       "      <td>0</td>\n",
       "      <td>1</td>\n",
       "      <td>0</td>\n",
       "      <td>0</td>\n",
       "      <td>0</td>\n",
       "      <td>0</td>\n",
       "    </tr>\n",
       "    <tr>\n",
       "      <th>245724</th>\n",
       "      <td>BOCZSWLJ</td>\n",
       "      <td>1</td>\n",
       "      <td>29</td>\n",
       "      <td>19</td>\n",
       "      <td>21</td>\n",
       "      <td>13.937088</td>\n",
       "      <td>0</td>\n",
       "      <td>0.0</td>\n",
       "      <td>1</td>\n",
       "      <td>0</td>\n",
       "      <td>0</td>\n",
       "      <td>1</td>\n",
       "      <td>0</td>\n",
       "      <td>0</td>\n",
       "      <td>0</td>\n",
       "      <td>0</td>\n",
       "    </tr>\n",
       "  </tbody>\n",
       "</table>\n",
       "<p>245725 rows × 16 columns</p>\n",
       "</div>"
      ],
      "text/plain": [
       "              ID  Gender  Age  Region_Code  Vintage  Avg_Account_Balance  \\\n",
       "0       NNVBBKZB       0   73           18       43            13.860194   \n",
       "1       IDD62UNG       0   30           27       32            13.274207   \n",
       "2       HD3DSEMC       0   56           18       26            14.210465   \n",
       "3       BF3NC7KV       1   34           20       19            13.061456   \n",
       "4       TEASRWXV       0   30           32       33            13.695361   \n",
       "...          ...     ...  ...          ...      ...                  ...   \n",
       "245720  BPAWWXZN       1   51           34      109            14.470741   \n",
       "245721  HFNB7JY8       1   27           18       15            13.668116   \n",
       "245722  GEHAUCWT       0   26           31       13            13.416018   \n",
       "245723  GE7V8SAH       0   28           23       31            12.917808   \n",
       "245724  BOCZSWLJ       1   29           19       21            13.937088   \n",
       "\n",
       "        Is_Active  Is_Lead  Credit_Product_No  Credit_Product_Yes  \\\n",
       "0               0      0.0                  1                   0   \n",
       "1               0      0.0                  1                   0   \n",
       "2               1      0.0                  1                   0   \n",
       "3               0      0.0                  1                   0   \n",
       "4               0      0.0                  1                   0   \n",
       "...           ...      ...                ...                 ...   \n",
       "245720          0      0.0                  0                   0   \n",
       "245721          1      0.0                  1                   0   \n",
       "245722          0      0.0                  1                   0   \n",
       "245723          0      0.0                  1                   0   \n",
       "245724          0      0.0                  1                   0   \n",
       "\n",
       "        Occupation_Other  Occupation_Salaried  Occupation_Self_Employed  \\\n",
       "0                      1                    0                         0   \n",
       "1                      0                    1                         0   \n",
       "2                      0                    0                         1   \n",
       "3                      0                    1                         0   \n",
       "4                      0                    1                         0   \n",
       "...                  ...                  ...                       ...   \n",
       "245720                 0                    0                         1   \n",
       "245721                 0                    1                         0   \n",
       "245722                 0                    1                         0   \n",
       "245723                 0                    1                         0   \n",
       "245724                 0                    1                         0   \n",
       "\n",
       "        Channel_Code_X2  Channel_Code_X3  Channel_Code_X4  \n",
       "0                     0                1                0  \n",
       "1                     0                0                0  \n",
       "2                     0                1                0  \n",
       "3                     0                0                0  \n",
       "4                     0                0                0  \n",
       "...                 ...              ...              ...  \n",
       "245720                0                1                0  \n",
       "245721                0                0                0  \n",
       "245722                0                0                0  \n",
       "245723                0                0                0  \n",
       "245724                0                0                0  \n",
       "\n",
       "[245725 rows x 16 columns]"
      ]
     },
     "execution_count": 102,
     "metadata": {},
     "output_type": "execute_result"
    }
   ],
   "source": [
    "Trainf"
   ]
  },
  {
   "cell_type": "code",
   "execution_count": 103,
   "id": "7c5095dd",
   "metadata": {},
   "outputs": [
    {
     "name": "stderr",
     "output_type": "stream",
     "text": [
      "C:\\Anaconda\\lib\\site-packages\\pandas\\core\\frame.py:4308: SettingWithCopyWarning: \n",
      "A value is trying to be set on a copy of a slice from a DataFrame\n",
      "\n",
      "See the caveats in the documentation: https://pandas.pydata.org/pandas-docs/stable/user_guide/indexing.html#returning-a-view-versus-a-copy\n",
      "  return super().drop(\n"
     ]
    }
   ],
   "source": [
    "Trainf.drop(['ID'],axis=1,inplace=True)\n",
    "Xf = Trainf.drop(['Is_Lead'],axis=1)\n",
    "yf = Trainf[['Is_Lead']]"
   ]
  },
  {
   "cell_type": "code",
   "execution_count": 105,
   "id": "a2723fca",
   "metadata": {},
   "outputs": [],
   "source": [
    "sc = StandardScaler()\n",
    "sc=sc.fit(Xf)\n",
    "Scaled_Xf= pd.DataFrame(sc.transform(Xf),columns=Xf.columns) "
   ]
  },
  {
   "cell_type": "code",
   "execution_count": 107,
   "id": "457c9eed",
   "metadata": {},
   "outputs": [
    {
     "name": "stderr",
     "output_type": "stream",
     "text": [
      "C:\\Anaconda\\lib\\site-packages\\pandas\\core\\frame.py:4308: SettingWithCopyWarning: \n",
      "A value is trying to be set on a copy of a slice from a DataFrame\n",
      "\n",
      "See the caveats in the documentation: https://pandas.pydata.org/pandas-docs/stable/user_guide/indexing.html#returning-a-view-versus-a-copy\n",
      "  return super().drop(\n"
     ]
    },
    {
     "data": {
      "text/html": [
       "<div>\n",
       "<style scoped>\n",
       "    .dataframe tbody tr th:only-of-type {\n",
       "        vertical-align: middle;\n",
       "    }\n",
       "\n",
       "    .dataframe tbody tr th {\n",
       "        vertical-align: top;\n",
       "    }\n",
       "\n",
       "    .dataframe thead th {\n",
       "        text-align: right;\n",
       "    }\n",
       "</style>\n",
       "<table border=\"1\" class=\"dataframe\">\n",
       "  <thead>\n",
       "    <tr style=\"text-align: right;\">\n",
       "      <th></th>\n",
       "      <th>Gender</th>\n",
       "      <th>Age</th>\n",
       "      <th>Region_Code</th>\n",
       "      <th>Vintage</th>\n",
       "      <th>Avg_Account_Balance</th>\n",
       "      <th>Is_Active</th>\n",
       "      <th>Credit_Product_No</th>\n",
       "      <th>Credit_Product_Yes</th>\n",
       "      <th>Occupation_Other</th>\n",
       "      <th>Occupation_Salaried</th>\n",
       "      <th>Occupation_Self_Employed</th>\n",
       "      <th>Channel_Code_X2</th>\n",
       "      <th>Channel_Code_X3</th>\n",
       "      <th>Channel_Code_X4</th>\n",
       "    </tr>\n",
       "  </thead>\n",
       "  <tbody>\n",
       "    <tr>\n",
       "      <th>245725</th>\n",
       "      <td>1</td>\n",
       "      <td>29</td>\n",
       "      <td>4</td>\n",
       "      <td>25</td>\n",
       "      <td>13.517599</td>\n",
       "      <td>0</td>\n",
       "      <td>0</td>\n",
       "      <td>1</td>\n",
       "      <td>1</td>\n",
       "      <td>0</td>\n",
       "      <td>0</td>\n",
       "      <td>0</td>\n",
       "      <td>0</td>\n",
       "      <td>0</td>\n",
       "    </tr>\n",
       "    <tr>\n",
       "      <th>245726</th>\n",
       "      <td>1</td>\n",
       "      <td>43</td>\n",
       "      <td>18</td>\n",
       "      <td>49</td>\n",
       "      <td>13.738130</td>\n",
       "      <td>0</td>\n",
       "      <td>0</td>\n",
       "      <td>0</td>\n",
       "      <td>1</td>\n",
       "      <td>0</td>\n",
       "      <td>0</td>\n",
       "      <td>1</td>\n",
       "      <td>0</td>\n",
       "      <td>0</td>\n",
       "    </tr>\n",
       "    <tr>\n",
       "      <th>245727</th>\n",
       "      <td>1</td>\n",
       "      <td>31</td>\n",
       "      <td>20</td>\n",
       "      <td>14</td>\n",
       "      <td>12.282802</td>\n",
       "      <td>0</td>\n",
       "      <td>1</td>\n",
       "      <td>0</td>\n",
       "      <td>0</td>\n",
       "      <td>1</td>\n",
       "      <td>0</td>\n",
       "      <td>0</td>\n",
       "      <td>0</td>\n",
       "      <td>0</td>\n",
       "    </tr>\n",
       "    <tr>\n",
       "      <th>245728</th>\n",
       "      <td>1</td>\n",
       "      <td>29</td>\n",
       "      <td>22</td>\n",
       "      <td>33</td>\n",
       "      <td>13.674029</td>\n",
       "      <td>0</td>\n",
       "      <td>1</td>\n",
       "      <td>0</td>\n",
       "      <td>1</td>\n",
       "      <td>0</td>\n",
       "      <td>0</td>\n",
       "      <td>0</td>\n",
       "      <td>0</td>\n",
       "      <td>0</td>\n",
       "    </tr>\n",
       "    <tr>\n",
       "      <th>245729</th>\n",
       "      <td>0</td>\n",
       "      <td>29</td>\n",
       "      <td>20</td>\n",
       "      <td>19</td>\n",
       "      <td>13.395573</td>\n",
       "      <td>0</td>\n",
       "      <td>1</td>\n",
       "      <td>0</td>\n",
       "      <td>1</td>\n",
       "      <td>0</td>\n",
       "      <td>0</td>\n",
       "      <td>0</td>\n",
       "      <td>0</td>\n",
       "      <td>0</td>\n",
       "    </tr>\n",
       "  </tbody>\n",
       "</table>\n",
       "</div>"
      ],
      "text/plain": [
       "        Gender  Age  Region_Code  Vintage  Avg_Account_Balance  Is_Active  \\\n",
       "245725       1   29            4       25            13.517599          0   \n",
       "245726       1   43           18       49            13.738130          0   \n",
       "245727       1   31           20       14            12.282802          0   \n",
       "245728       1   29           22       33            13.674029          0   \n",
       "245729       0   29           20       19            13.395573          0   \n",
       "\n",
       "        Credit_Product_No  Credit_Product_Yes  Occupation_Other  \\\n",
       "245725                  0                   1                 1   \n",
       "245726                  0                   0                 1   \n",
       "245727                  1                   0                 0   \n",
       "245728                  1                   0                 1   \n",
       "245729                  1                   0                 1   \n",
       "\n",
       "        Occupation_Salaried  Occupation_Self_Employed  Channel_Code_X2  \\\n",
       "245725                    0                         0                0   \n",
       "245726                    0                         0                1   \n",
       "245727                    1                         0                0   \n",
       "245728                    0                         0                0   \n",
       "245729                    0                         0                0   \n",
       "\n",
       "        Channel_Code_X3  Channel_Code_X4  \n",
       "245725                0                0  \n",
       "245726                0                0  \n",
       "245727                0                0  \n",
       "245728                0                0  \n",
       "245729                0                0  "
      ]
     },
     "execution_count": 107,
     "metadata": {},
     "output_type": "execute_result"
    }
   ],
   "source": [
    "Testf.drop(['ID','Is_Lead'],axis=1,inplace=True)\n",
    "Testf.head()"
   ]
  },
  {
   "cell_type": "code",
   "execution_count": 108,
   "id": "fada9af4",
   "metadata": {},
   "outputs": [],
   "source": [
    "Scaled_testf = pd.DataFrame(sc.transform(Testf),columns=Testf.columns) "
   ]
  },
  {
   "cell_type": "code",
   "execution_count": 109,
   "id": "29ef59bc",
   "metadata": {},
   "outputs": [
    {
     "data": {
      "text/html": [
       "<div>\n",
       "<style scoped>\n",
       "    .dataframe tbody tr th:only-of-type {\n",
       "        vertical-align: middle;\n",
       "    }\n",
       "\n",
       "    .dataframe tbody tr th {\n",
       "        vertical-align: top;\n",
       "    }\n",
       "\n",
       "    .dataframe thead th {\n",
       "        text-align: right;\n",
       "    }\n",
       "</style>\n",
       "<table border=\"1\" class=\"dataframe\">\n",
       "  <thead>\n",
       "    <tr style=\"text-align: right;\">\n",
       "      <th></th>\n",
       "      <th>Gender</th>\n",
       "      <th>Age</th>\n",
       "      <th>Region_Code</th>\n",
       "      <th>Vintage</th>\n",
       "      <th>Avg_Account_Balance</th>\n",
       "      <th>Is_Active</th>\n",
       "      <th>Credit_Product_No</th>\n",
       "      <th>Credit_Product_Yes</th>\n",
       "      <th>Occupation_Other</th>\n",
       "      <th>Occupation_Salaried</th>\n",
       "      <th>Occupation_Self_Employed</th>\n",
       "      <th>Channel_Code_X2</th>\n",
       "      <th>Channel_Code_X3</th>\n",
       "      <th>Channel_Code_X4</th>\n",
       "    </tr>\n",
       "  </thead>\n",
       "  <tbody>\n",
       "    <tr>\n",
       "      <th>0</th>\n",
       "      <td>0.911634</td>\n",
       "      <td>-1.001866</td>\n",
       "      <td>-1.460729</td>\n",
       "      <td>-0.678734</td>\n",
       "      <td>-0.351031</td>\n",
       "      <td>-0.796872</td>\n",
       "      <td>-1.193352</td>\n",
       "      <td>1.552678</td>\n",
       "      <td>1.581677</td>\n",
       "      <td>-0.643770</td>\n",
       "      <td>-0.834589</td>\n",
       "      <td>-0.616835</td>\n",
       "      <td>-0.623037</td>\n",
       "      <td>-0.15228</td>\n",
       "    </tr>\n",
       "    <tr>\n",
       "      <th>1</th>\n",
       "      <td>0.911634</td>\n",
       "      <td>-0.057747</td>\n",
       "      <td>-0.172389</td>\n",
       "      <td>0.063081</td>\n",
       "      <td>0.010093</td>\n",
       "      <td>-0.796872</td>\n",
       "      <td>-1.193352</td>\n",
       "      <td>-0.644048</td>\n",
       "      <td>1.581677</td>\n",
       "      <td>-0.643770</td>\n",
       "      <td>-0.834589</td>\n",
       "      <td>1.621179</td>\n",
       "      <td>-0.623037</td>\n",
       "      <td>-0.15228</td>\n",
       "    </tr>\n",
       "    <tr>\n",
       "      <th>2</th>\n",
       "      <td>0.911634</td>\n",
       "      <td>-0.866992</td>\n",
       "      <td>0.011660</td>\n",
       "      <td>-1.018733</td>\n",
       "      <td>-2.373027</td>\n",
       "      <td>-0.796872</td>\n",
       "      <td>0.837976</td>\n",
       "      <td>-0.644048</td>\n",
       "      <td>-0.632240</td>\n",
       "      <td>1.553349</td>\n",
       "      <td>-0.834589</td>\n",
       "      <td>-0.616835</td>\n",
       "      <td>-0.623037</td>\n",
       "      <td>-0.15228</td>\n",
       "    </tr>\n",
       "    <tr>\n",
       "      <th>3</th>\n",
       "      <td>0.911634</td>\n",
       "      <td>-1.001866</td>\n",
       "      <td>0.195708</td>\n",
       "      <td>-0.431463</td>\n",
       "      <td>-0.094875</td>\n",
       "      <td>-0.796872</td>\n",
       "      <td>0.837976</td>\n",
       "      <td>-0.644048</td>\n",
       "      <td>1.581677</td>\n",
       "      <td>-0.643770</td>\n",
       "      <td>-0.834589</td>\n",
       "      <td>-0.616835</td>\n",
       "      <td>-0.623037</td>\n",
       "      <td>-0.15228</td>\n",
       "    </tr>\n",
       "    <tr>\n",
       "      <th>4</th>\n",
       "      <td>-1.096931</td>\n",
       "      <td>-1.001866</td>\n",
       "      <td>0.011660</td>\n",
       "      <td>-0.864188</td>\n",
       "      <td>-0.550849</td>\n",
       "      <td>-0.796872</td>\n",
       "      <td>0.837976</td>\n",
       "      <td>-0.644048</td>\n",
       "      <td>1.581677</td>\n",
       "      <td>-0.643770</td>\n",
       "      <td>-0.834589</td>\n",
       "      <td>-0.616835</td>\n",
       "      <td>-0.623037</td>\n",
       "      <td>-0.15228</td>\n",
       "    </tr>\n",
       "  </tbody>\n",
       "</table>\n",
       "</div>"
      ],
      "text/plain": [
       "     Gender       Age  Region_Code   Vintage  Avg_Account_Balance  Is_Active  \\\n",
       "0  0.911634 -1.001866    -1.460729 -0.678734            -0.351031  -0.796872   \n",
       "1  0.911634 -0.057747    -0.172389  0.063081             0.010093  -0.796872   \n",
       "2  0.911634 -0.866992     0.011660 -1.018733            -2.373027  -0.796872   \n",
       "3  0.911634 -1.001866     0.195708 -0.431463            -0.094875  -0.796872   \n",
       "4 -1.096931 -1.001866     0.011660 -0.864188            -0.550849  -0.796872   \n",
       "\n",
       "   Credit_Product_No  Credit_Product_Yes  Occupation_Other  \\\n",
       "0          -1.193352            1.552678          1.581677   \n",
       "1          -1.193352           -0.644048          1.581677   \n",
       "2           0.837976           -0.644048         -0.632240   \n",
       "3           0.837976           -0.644048          1.581677   \n",
       "4           0.837976           -0.644048          1.581677   \n",
       "\n",
       "   Occupation_Salaried  Occupation_Self_Employed  Channel_Code_X2  \\\n",
       "0            -0.643770                 -0.834589        -0.616835   \n",
       "1            -0.643770                 -0.834589         1.621179   \n",
       "2             1.553349                 -0.834589        -0.616835   \n",
       "3            -0.643770                 -0.834589        -0.616835   \n",
       "4            -0.643770                 -0.834589        -0.616835   \n",
       "\n",
       "   Channel_Code_X3  Channel_Code_X4  \n",
       "0        -0.623037         -0.15228  \n",
       "1        -0.623037         -0.15228  \n",
       "2        -0.623037         -0.15228  \n",
       "3        -0.623037         -0.15228  \n",
       "4        -0.623037         -0.15228  "
      ]
     },
     "execution_count": 109,
     "metadata": {},
     "output_type": "execute_result"
    }
   ],
   "source": [
    "Scaled_testf.head()"
   ]
  },
  {
   "cell_type": "code",
   "execution_count": 110,
   "id": "5b1feffb",
   "metadata": {},
   "outputs": [
    {
     "name": "stderr",
     "output_type": "stream",
     "text": [
      "<ipython-input-110-ae0681a297fd>:1: DataConversionWarning: A column-vector y was passed when a 1d array was expected. Please change the shape of y to (n_samples,), for example using ravel().\n",
      "  rf2.fit(Scaled_Xf,yf)\n"
     ]
    },
    {
     "data": {
      "text/plain": [
       "RandomForestClassifier(max_depth=11, n_estimators=150)"
      ]
     },
     "execution_count": 110,
     "metadata": {},
     "output_type": "execute_result"
    }
   ],
   "source": [
    "rf2.fit(Scaled_Xf,yf)"
   ]
  },
  {
   "cell_type": "code",
   "execution_count": 111,
   "id": "5ad6fbb5",
   "metadata": {},
   "outputs": [],
   "source": [
    "y_pred = rf2.predict_proba(Scaled_testf)[:,1]"
   ]
  },
  {
   "cell_type": "code",
   "execution_count": 65,
   "id": "92d4eabb",
   "metadata": {
    "scrolled": true
   },
   "outputs": [
    {
     "data": {
      "text/html": [
       "<div>\n",
       "<style scoped>\n",
       "    .dataframe tbody tr th:only-of-type {\n",
       "        vertical-align: middle;\n",
       "    }\n",
       "\n",
       "    .dataframe tbody tr th {\n",
       "        vertical-align: top;\n",
       "    }\n",
       "\n",
       "    .dataframe thead th {\n",
       "        text-align: right;\n",
       "    }\n",
       "</style>\n",
       "<table border=\"1\" class=\"dataframe\">\n",
       "  <thead>\n",
       "    <tr style=\"text-align: right;\">\n",
       "      <th></th>\n",
       "      <th>ID</th>\n",
       "      <th>Is_Lead</th>\n",
       "    </tr>\n",
       "  </thead>\n",
       "  <tbody>\n",
       "    <tr>\n",
       "      <th>0</th>\n",
       "      <td>VBENBARO</td>\n",
       "      <td>0</td>\n",
       "    </tr>\n",
       "    <tr>\n",
       "      <th>1</th>\n",
       "      <td>CCMEWNKY</td>\n",
       "      <td>0</td>\n",
       "    </tr>\n",
       "    <tr>\n",
       "      <th>2</th>\n",
       "      <td>VK3KGA9M</td>\n",
       "      <td>0</td>\n",
       "    </tr>\n",
       "    <tr>\n",
       "      <th>3</th>\n",
       "      <td>TT8RPZVC</td>\n",
       "      <td>0</td>\n",
       "    </tr>\n",
       "    <tr>\n",
       "      <th>4</th>\n",
       "      <td>SHQZEYTZ</td>\n",
       "      <td>0</td>\n",
       "    </tr>\n",
       "  </tbody>\n",
       "</table>\n",
       "</div>"
      ],
      "text/plain": [
       "         ID  Is_Lead\n",
       "0  VBENBARO        0\n",
       "1  CCMEWNKY        0\n",
       "2  VK3KGA9M        0\n",
       "3  TT8RPZVC        0\n",
       "4  SHQZEYTZ        0"
      ]
     },
     "execution_count": 65,
     "metadata": {},
     "output_type": "execute_result"
    }
   ],
   "source": [
    "sample = pd.read_csv('sample.csv')\n",
    "sample.head()"
   ]
  },
  {
   "cell_type": "code",
   "execution_count": 66,
   "id": "b535b0d7",
   "metadata": {},
   "outputs": [],
   "source": [
    "sample['Is_Lead'] = Is_Lead"
   ]
  },
  {
   "cell_type": "code",
   "execution_count": 67,
   "id": "8453def4",
   "metadata": {},
   "outputs": [],
   "source": [
    "sample.to_csv('output.csv',index=False)"
   ]
  },
  {
   "cell_type": "code",
   "execution_count": 68,
   "id": "7a632abd",
   "metadata": {},
   "outputs": [
    {
     "data": {
      "text/html": [
       "<div>\n",
       "<style scoped>\n",
       "    .dataframe tbody tr th:only-of-type {\n",
       "        vertical-align: middle;\n",
       "    }\n",
       "\n",
       "    .dataframe tbody tr th {\n",
       "        vertical-align: top;\n",
       "    }\n",
       "\n",
       "    .dataframe thead th {\n",
       "        text-align: right;\n",
       "    }\n",
       "</style>\n",
       "<table border=\"1\" class=\"dataframe\">\n",
       "  <thead>\n",
       "    <tr style=\"text-align: right;\">\n",
       "      <th></th>\n",
       "      <th>ID</th>\n",
       "      <th>Is_Lead</th>\n",
       "    </tr>\n",
       "  </thead>\n",
       "  <tbody>\n",
       "    <tr>\n",
       "      <th>0</th>\n",
       "      <td>VBENBARO</td>\n",
       "      <td>0</td>\n",
       "    </tr>\n",
       "    <tr>\n",
       "      <th>1</th>\n",
       "      <td>CCMEWNKY</td>\n",
       "      <td>1</td>\n",
       "    </tr>\n",
       "    <tr>\n",
       "      <th>2</th>\n",
       "      <td>VK3KGA9M</td>\n",
       "      <td>1</td>\n",
       "    </tr>\n",
       "    <tr>\n",
       "      <th>3</th>\n",
       "      <td>TT8RPZVC</td>\n",
       "      <td>1</td>\n",
       "    </tr>\n",
       "    <tr>\n",
       "      <th>4</th>\n",
       "      <td>SHQZEYTZ</td>\n",
       "      <td>1</td>\n",
       "    </tr>\n",
       "    <tr>\n",
       "      <th>...</th>\n",
       "      <td>...</td>\n",
       "      <td>...</td>\n",
       "    </tr>\n",
       "    <tr>\n",
       "      <th>105307</th>\n",
       "      <td>DBENJOYI</td>\n",
       "      <td>0</td>\n",
       "    </tr>\n",
       "    <tr>\n",
       "      <th>105308</th>\n",
       "      <td>CWQ72DWS</td>\n",
       "      <td>0</td>\n",
       "    </tr>\n",
       "    <tr>\n",
       "      <th>105309</th>\n",
       "      <td>HDESC8GU</td>\n",
       "      <td>1</td>\n",
       "    </tr>\n",
       "    <tr>\n",
       "      <th>105310</th>\n",
       "      <td>2PW4SFCA</td>\n",
       "      <td>1</td>\n",
       "    </tr>\n",
       "    <tr>\n",
       "      <th>105311</th>\n",
       "      <td>F2NOYPPZ</td>\n",
       "      <td>1</td>\n",
       "    </tr>\n",
       "  </tbody>\n",
       "</table>\n",
       "<p>105312 rows × 2 columns</p>\n",
       "</div>"
      ],
      "text/plain": [
       "              ID  Is_Lead\n",
       "0       VBENBARO        0\n",
       "1       CCMEWNKY        1\n",
       "2       VK3KGA9M        1\n",
       "3       TT8RPZVC        1\n",
       "4       SHQZEYTZ        1\n",
       "...          ...      ...\n",
       "105307  DBENJOYI        0\n",
       "105308  CWQ72DWS        0\n",
       "105309  HDESC8GU        1\n",
       "105310  2PW4SFCA        1\n",
       "105311  F2NOYPPZ        1\n",
       "\n",
       "[105312 rows x 2 columns]"
      ]
     },
     "execution_count": 68,
     "metadata": {},
     "output_type": "execute_result"
    }
   ],
   "source": [
    "sample"
   ]
  },
  {
   "cell_type": "code",
   "execution_count": null,
   "id": "bfb0a780",
   "metadata": {},
   "outputs": [],
   "source": []
  }
 ],
 "metadata": {
  "kernelspec": {
   "display_name": "Python 3",
   "language": "python",
   "name": "python3"
  },
  "language_info": {
   "codemirror_mode": {
    "name": "ipython",
    "version": 3
   },
   "file_extension": ".py",
   "mimetype": "text/x-python",
   "name": "python",
   "nbconvert_exporter": "python",
   "pygments_lexer": "ipython3",
   "version": "3.8.8"
  }
 },
 "nbformat": 4,
 "nbformat_minor": 5
}
